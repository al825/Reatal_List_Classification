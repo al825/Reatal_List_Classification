{
 "cells": [
  {
   "cell_type": "markdown",
   "metadata": {},
   "source": [
    "## Investigate 2: feature size of each step"
   ]
  },
  {
   "cell_type": "code",
   "execution_count": 12,
   "metadata": {
    "collapsed": false
   },
   "outputs": [],
   "source": [
    "# define the transformers\n",
    "import pandas as pd\n",
    "import numpy as np\n",
    "from matplotlib import pyplot as plt\n",
    "from sklearn.feature_extraction.text import CountVectorizer, TfidfVectorizer, TfidfTransformer\n",
    "from sklearn.preprocessing import StandardScaler, OneHotEncoder\n",
    "from sklearn.cluster import MiniBatchKMeans\n",
    "from sklearn.linear_model import SGDRegressor\n",
    "from sklearn.pipeline import Pipeline, FeatureUnion\n",
    "from sklearn.cross_validation import KFold\n",
    "from sklearn.feature_extraction.text import CountVectorizer\n",
    "from sklearn.feature_extraction.text import TfidfVectorizer\n",
    "from sklearn.ensemble import RandomForestClassifier\n",
    "from sklearn.metrics import log_loss\n",
    "from sklearn.base import TransformerMixin\n",
    "from sklearn.ensemble import AdaBoostClassifier\n",
    "from sklearn.model_selection import train_test_split\n",
    "from bs4 import BeautifulSoup \n",
    "from nltk.stem.snowball import SnowballStemmer\n",
    "from nltk.tokenize import RegexpTokenizer\n",
    "import random\n",
    "from collections import defaultdict\n",
    "import re\n",
    "import time \n",
    "%matplotlib inline\n"
   ]
  },
  {
   "cell_type": "code",
   "execution_count": 4,
   "metadata": {
    "collapsed": false
   },
   "outputs": [],
   "source": [
    "# import transformers\n",
    "from transformers import *"
   ]
  },
  {
   "cell_type": "code",
   "execution_count": 6,
   "metadata": {
    "collapsed": true
   },
   "outputs": [],
   "source": [
    "random_state = 123"
   ]
  },
  {
   "cell_type": "code",
   "execution_count": 7,
   "metadata": {
    "collapsed": false
   },
   "outputs": [],
   "source": [
    "# build pipelines\n",
    "variable_unchanged = Pipeline([('variable_extractor', VariableExtractor(['bedrooms', 'bathrooms', 'price']))])\n",
    "bbratio = Pipeline([\n",
    "        ('room_ratio', RatioCreator('bedrooms', 'bathrooms')),\n",
    "        ('bbratio_dimup', DimOneUp())\n",
    "    ])\n",
    "bpratio = Pipeline([\n",
    "        ('priceroom_ratio', RatioCreator('price', 'bedrooms')),\n",
    "        ('bpratio_dimup', DimOneUp())\n",
    "    ])\n",
    "llcluster = Pipeline([\n",
    "        ('ll_extractor', VariableExtractor(['longitude', 'latitude'])),\n",
    "        ('ll_cluster', LLCluster(init='k-means++', n_clusters=10, batch_size=200, n_init=10, \n",
    "                                 max_no_improvement=10, verbose=0, random_state=random_state)),\n",
    "        ('llcluster_dimup', DimOneUp())                     \n",
    "    ])\n",
    "\n",
    "feature_process = Pipeline([\n",
    "        ('feature_cleanser', FeatureCleanser()),\n",
    "        ('feature_union', FeatureUnion([\n",
    "                    ('feature_counts', Pipeline([\n",
    "                                ('feature_length', VariableLength()),\n",
    "                                ('feature_dimup', DimOneUp())\n",
    "                            ])),\n",
    "                    ('different_features', DiffFeatCounts())\n",
    "                ]))\n",
    "    ])\n",
    "\n",
    "description_process = FeatureUnion([\n",
    "        ('description_length', Pipeline([('description_counts', DescriptionWordCounts()),\n",
    "                                     ('dc_dimup', DimOneUp())\n",
    "                                    ])\n",
    "        ), \n",
    "        ('description_tf', DescriptionProcessor())\n",
    "    ])\n",
    "\n",
    "photo_length = Pipeline([('photo_extractor', VariableExtractor('photos')),\n",
    "                         ('photo_counts', VariableLength()), \n",
    "                         ('photo_dimup', DimOneUp())\n",
    "    ])\n",
    "\n",
    "building_process = Pipeline([\n",
    "        ('building_extractor', VariableExtractor('building_id')),\n",
    "        ('building_union', FeatureUnion([\n",
    "                    ('building_counts', Pipeline([\n",
    "                                ('building_length', CatVariableCounts()),\n",
    "                                ('building_dimup', DimOneUp())\n",
    "                            ])),\n",
    "                    ('building_indicator', CatVariableIndicator())\n",
    "                ]))\n",
    "    ])\n",
    "\n",
    "manager_process = Pipeline([\n",
    "        ('manager_extractor', VariableExtractor('manager_id')),\n",
    "        ('manager_union', FeatureUnion([\n",
    "                    ('manager_counts', Pipeline([\n",
    "                                ('manager_length', CatVariableCounts()),\n",
    "                                ('manager_dimup', DimOneUp())\n",
    "                            ])),\n",
    "                    ('manager_indicator', CatVariableIndicator())\n",
    "                ]))\n",
    "    ])\n",
    "\n",
    "date_process = Pipeline([\n",
    "        ('hour_extractor', DateProcessor(wantyear=False, wantmonth=False, wanthour=True)),\n",
    "        ('hour_dimup', DimOneUp())\n",
    "    ])\n",
    "\n",
    "address_process = Pipeline([\n",
    "        ('address_cleanser', AddressCleanser()),\n",
    "        ('address_union', FeatureUnion([\n",
    "                    ('address_counts', Pipeline([\n",
    "                                ('address_length', CatVariableCounts()),\n",
    "                                ('address_dimup', DimOneUp())\n",
    "                            ])),\n",
    "                    ('address_indicator', CatVariableIndicator())\n",
    "                ]))\n",
    "    ])\n"
   ]
  },
  {
   "cell_type": "code",
   "execution_count": 9,
   "metadata": {
    "collapsed": true
   },
   "outputs": [],
   "source": [
    "# build predictors\n",
    "predictor = AdaBoostClassifier(random_state=random_state)"
   ]
  },
  {
   "cell_type": "code",
   "execution_count": 11,
   "metadata": {
    "collapsed": false
   },
   "outputs": [
    {
     "name": "stdout",
     "output_type": "stream",
     "text": [
      "Read in training data set with size of 49352 * 15\n",
      "Read in testing data set with size of 74659 * 14\n"
     ]
    }
   ],
   "source": [
    "# read in the data \n",
    "# read in the training data set\n",
    "train_set = pd.read_json(r'..\\data\\train.json')\n",
    "test_set = pd.read_json(r'..\\data\\test.json')\n",
    "print(\"Read in training data set with size of {} * {}\".format(train_set.shape[0], train_set.shape[1]))\n",
    "print(\"Read in testing data set with size of {} * {}\".format(test_set.shape[0], test_set.shape[1]))"
   ]
  },
  {
   "cell_type": "code",
   "execution_count": 15,
   "metadata": {
    "collapsed": false
   },
   "outputs": [],
   "source": [
    "orig_X = train_set.drop('interest_level', axis=1)\n",
    "orig_y = train_set['interest_level']"
   ]
  },
  {
   "cell_type": "code",
   "execution_count": 22,
   "metadata": {
    "collapsed": true
   },
   "outputs": [],
   "source": [
    "train_X, test_X, train_y, test_y = train_test_split(orig_X, orig_y, test_size=0.2, \n",
    "                                                    random_state=random_state, stratify=orig_y )"
   ]
  },
  {
   "cell_type": "code",
   "execution_count": 27,
   "metadata": {
    "collapsed": false
   },
   "outputs": [
    {
     "name": "stdout",
     "output_type": "stream",
     "text": [
      "Size: train_X: (39481, 14), train_y: 39481\n",
      "Size: test_X: (9871, 14), test_y: 9871\n"
     ]
    }
   ],
   "source": [
    "print(\"Size: train_X: {}, train_y: {}\".format(train_X.shape, len(train_y)))\n",
    "print(\"Size: test_X: {}, test_y: {}\".format(test_X.shape, len(test_y)))\n"
   ]
  },
  {
   "cell_type": "code",
   "execution_count": 31,
   "metadata": {
    "collapsed": false
   },
   "outputs": [
    {
     "name": "stdout",
     "output_type": "stream",
     "text": [
      "Train set:\n",
      "low       0.694689\n",
      "medium    0.227527\n",
      "high      0.077784\n",
      "Name: interest_level, dtype: float64\n",
      "\n",
      "Test set:\n",
      "low       0.694661\n",
      "medium    0.227535\n",
      "high      0.077804\n",
      "Name: interest_level, dtype: float64\n"
     ]
    }
   ],
   "source": [
    "# check the distribution of y\n",
    "print('Train set:')\n",
    "print(train_y.value_counts(normalize=True))\n",
    "print('\\nTest set:')\n",
    "print(test_y.value_counts(normalize=True))"
   ]
  },
  {
   "cell_type": "markdown",
   "metadata": {},
   "source": [
    "The split is balanced."
   ]
  },
  {
   "cell_type": "code",
   "execution_count": 43,
   "metadata": {
    "collapsed": true
   },
   "outputs": [],
   "source": [
    "def fitmodel(pipeline):\n",
    "    t1 =time.time()\n",
    "    pipeline.fit(train_X, train_y)\n",
    "    print('Time to fit the trainset: {:.2f}'.format((time.time()-t1)))\n",
    "    t1 =time.time()\n",
    "    pred_prob = pipeline.predict_proba(train_X)\n",
    "    print('Log score: {}'.format(log_loss(train_y, pred_prob)))\n",
    "    print('Time to make the prediction to the trainset: {:.2f}'.format((time.time()-t1)))\n",
    "    return pipeline, pred_prob\n",
    "    "
   ]
  },
  {
   "cell_type": "code",
   "execution_count": 48,
   "metadata": {
    "collapsed": true
   },
   "outputs": [],
   "source": [
    "def predictmodel(pipeline):\n",
    "    pred_unchanged_test = pipeline.predict_proba(test_X)\n",
    "    print('Log score: {} for CAT'.format(log_loss(test_y, pred_unchanged_test)))\n",
    "    return pred_unchanged_test\n",
    "\n",
    "    "
   ]
  },
  {
   "cell_type": "code",
   "execution_count": 51,
   "metadata": {
    "collapsed": true
   },
   "outputs": [],
   "source": [
    "def get_feature_importance(pipeline):\n",
    "    return pipeline.named_steps['predictor'].feature_importances_ \n"
   ]
  },
  {
   "cell_type": "markdown",
   "metadata": {},
   "source": [
    "## Build pipline step by step"
   ]
  },
  {
   "cell_type": "markdown",
   "metadata": {},
   "source": [
    "### Step1: Unchanged Features"
   ]
  },
  {
   "cell_type": "markdown",
   "metadata": {},
   "source": [
    "variable_unchanged = Pipeline([('variable_extractor', VariableExtractor(['bedrooms', 'bathrooms', 'price']))])\n"
   ]
  },
  {
   "cell_type": "code",
   "execution_count": 37,
   "metadata": {
    "collapsed": true
   },
   "outputs": [],
   "source": [
    "data1 = variable_unchanged.fit_transform(train_X, train_y)"
   ]
  },
  {
   "cell_type": "code",
   "execution_count": 38,
   "metadata": {
    "collapsed": false
   },
   "outputs": [
    {
     "data": {
      "text/plain": [
       "(39481, 3)"
      ]
     },
     "execution_count": 38,
     "metadata": {},
     "output_type": "execute_result"
    }
   ],
   "source": [
    "data1.shape"
   ]
  },
  {
   "cell_type": "code",
   "execution_count": 40,
   "metadata": {
    "collapsed": true
   },
   "outputs": [],
   "source": [
    "pipe_unchaged = Pipeline([\n",
    "        ('variable_unchanged', variable_unchanged),\n",
    "        ('predictor', predictor)\n",
    "    ])"
   ]
  },
  {
   "cell_type": "code",
   "execution_count": 45,
   "metadata": {
    "collapsed": false
   },
   "outputs": [
    {
     "name": "stdout",
     "output_type": "stream",
     "text": [
      "Time to fit the trainset: 4.59\n",
      "Log score: 1.0758216934480005\n",
      "Time to make the prediction to the trainset: 0.43\n"
     ]
    }
   ],
   "source": [
    "pipe_unchaged, pred_unchanged_train = fitmodel(pipe_unchaged)"
   ]
  },
  {
   "cell_type": "code",
   "execution_count": 52,
   "metadata": {
    "collapsed": false
   },
   "outputs": [
    {
     "data": {
      "text/plain": [
       "array([ 0.16,  0.16,  0.68])"
      ]
     },
     "execution_count": 52,
     "metadata": {},
     "output_type": "execute_result"
    }
   ],
   "source": [
    "# importance features\n",
    "get_feature_importance(pipe_unchaged) "
   ]
  },
  {
   "cell_type": "markdown",
   "metadata": {},
   "source": [
    "price is more important among the 3 variables."
   ]
  },
  {
   "cell_type": "code",
   "execution_count": 49,
   "metadata": {
    "collapsed": false
   },
   "outputs": [
    {
     "name": "stdout",
     "output_type": "stream",
     "text": [
      "Log score: 1.0758768675370136 for CAT\n"
     ]
    }
   ],
   "source": [
    "pred_unchanged_test = predictmodel(pipe_unchaged)"
   ]
  },
  {
   "cell_type": "markdown",
   "metadata": {},
   "source": [
    "Unchanged variables make sense, no obvious overfitting. "
   ]
  },
  {
   "cell_type": "markdown",
   "metadata": {},
   "source": [
    "## Step2: ratios"
   ]
  },
  {
   "cell_type": "code",
   "execution_count": 58,
   "metadata": {
    "collapsed": true
   },
   "outputs": [],
   "source": [
    "bbratio = Pipeline([\n",
    "        ('room_ratio', RatioCreator('bathrooms', 'bedrooms')),\n",
    "        ('bbratio_dimup', DimOneUp())\n",
    "    ])\n",
    "bpratio = Pipeline([\n",
    "        ('priceroom_ratio', RatioCreator('price', 'bedrooms')),\n",
    "        ('bpratio_dimup', DimOneUp())\n",
    "    ])\n",
    "\n",
    "ratio_unions = FeatureUnion([\n",
    "        ('bbratio', bbratio),\n",
    "        ('bpratio', bpratio)\n",
    "    ])\n"
   ]
  },
  {
   "cell_type": "code",
   "execution_count": 59,
   "metadata": {
    "collapsed": true
   },
   "outputs": [],
   "source": [
    "data2 = ratio_unions.fit_transform(train_X, train_y)"
   ]
  },
  {
   "cell_type": "code",
   "execution_count": 60,
   "metadata": {
    "collapsed": false
   },
   "outputs": [
    {
     "data": {
      "text/plain": [
       "array([[  1.00000000e+00,   1.99750000e+03],\n",
       "       [  1.00000000e+00,   2.15000000e+03],\n",
       "       [  1.00000000e+00,   2.94100000e+03],\n",
       "       [  1.00000000e+00,   2.05000000e+03],\n",
       "       [  1.00000000e+00,   2.80000000e+03],\n",
       "       [  5.00000000e-01,   1.32500000e+03],\n",
       "       [  2.50000000e-01,   1.17375000e+03],\n",
       "       [  5.00000000e-01,   1.52500000e+03],\n",
       "       [  6.66666667e-01,   1.43166667e+03],\n",
       "       [  1.00000000e+00,   4.20000000e+03]])"
      ]
     },
     "execution_count": 60,
     "metadata": {},
     "output_type": "execute_result"
    }
   ],
   "source": [
    "data2[:10]"
   ]
  },
  {
   "cell_type": "code",
   "execution_count": 74,
   "metadata": {
    "collapsed": false
   },
   "outputs": [],
   "source": [
    "pipe_ratio = Pipeline([\n",
    "        ('feature_union', FeatureUnion([\n",
    "                    ('variable_unchanged', variable_unchanged),\n",
    "                    ('ratio_unions', ratio_unions)\n",
    "                ])),        \n",
    "        ('predictor', predictor)\n",
    "    ])"
   ]
  },
  {
   "cell_type": "code",
   "execution_count": 75,
   "metadata": {
    "collapsed": false
   },
   "outputs": [
    {
     "name": "stdout",
     "output_type": "stream",
     "text": [
      "Time to fit the trainset: 4.59\n",
      "Log score: 1.0725010664541172\n",
      "Time to make the prediction to the trainset: 0.46\n"
     ]
    }
   ],
   "source": [
    "pipe_ratio, pred_ratio_train = fitmodel(pipe_ratio)"
   ]
  },
  {
   "cell_type": "code",
   "execution_count": 76,
   "metadata": {
    "collapsed": false
   },
   "outputs": [
    {
     "data": {
      "text/plain": [
       "array([ 0.1 ,  0.04,  0.34,  0.04,  0.48])"
      ]
     },
     "execution_count": 76,
     "metadata": {},
     "output_type": "execute_result"
    }
   ],
   "source": [
    "get_feature_importance(pipe_ratio) "
   ]
  },
  {
   "cell_type": "markdown",
   "metadata": {},
   "source": [
    "price and bedroom-price ratio more important"
   ]
  },
  {
   "cell_type": "code",
   "execution_count": 77,
   "metadata": {
    "collapsed": false
   },
   "outputs": [
    {
     "name": "stdout",
     "output_type": "stream",
     "text": [
      "Log score: 1.0724667541005297 for CAT\n"
     ]
    }
   ],
   "source": [
    "pred_ratio_test = predictmodel(pipe_ratio)"
   ]
  },
  {
   "cell_type": "markdown",
   "metadata": {},
   "source": [
    "A little improvement adding the ratios. No obvious overfitting."
   ]
  },
  {
   "cell_type": "markdown",
   "metadata": {},
   "source": [
    "## Step3: llcluster"
   ]
  },
  {
   "cell_type": "code",
   "execution_count": 78,
   "metadata": {
    "collapsed": true
   },
   "outputs": [],
   "source": [
    "llcluster = Pipeline([\n",
    "        ('ll_extractor', VariableExtractor(['longitude', 'latitude'])),\n",
    "        ('ll_cluster', LLCluster(init='k-means++', n_clusters=10, batch_size=200, n_init=10, \n",
    "                                 max_no_improvement=10, verbose=0, random_state=random_state)),\n",
    "        ('llcluster_dimup', DimOneUp())                     \n",
    "    ])\n"
   ]
  },
  {
   "cell_type": "code",
   "execution_count": 79,
   "metadata": {
    "collapsed": true
   },
   "outputs": [],
   "source": [
    "data3 = llcluster.fit_transform(train_X, train_y)"
   ]
  },
  {
   "cell_type": "code",
   "execution_count": 80,
   "metadata": {
    "collapsed": false
   },
   "outputs": [
    {
     "data": {
      "text/plain": [
       "(39481, 1)"
      ]
     },
     "execution_count": 80,
     "metadata": {},
     "output_type": "execute_result"
    }
   ],
   "source": [
    "data3.shape"
   ]
  },
  {
   "cell_type": "code",
   "execution_count": 82,
   "metadata": {
    "collapsed": false
   },
   "outputs": [],
   "source": [
    "pipe_llcluster = Pipeline([\n",
    "        ('feature_union', FeatureUnion([\n",
    "                    ('variable_unchanged', variable_unchanged),\n",
    "                    ('ratio_unions', ratio_unions),\n",
    "                    ('llcluster', llcluster)\n",
    "                ])),        \n",
    "        ('predictor', predictor)\n",
    "    ])"
   ]
  },
  {
   "cell_type": "code",
   "execution_count": 83,
   "metadata": {
    "collapsed": false
   },
   "outputs": [
    {
     "name": "stdout",
     "output_type": "stream",
     "text": [
      "Time to fit the trainset: 5.80\n",
      "Log score: 1.0718592073577156\n",
      "Time to make the prediction to the trainset: 0.56\n"
     ]
    }
   ],
   "source": [
    "pipe_llcluster, pred_ll_train = fitmodel(pipe_llcluster)"
   ]
  },
  {
   "cell_type": "code",
   "execution_count": 84,
   "metadata": {
    "collapsed": false
   },
   "outputs": [
    {
     "data": {
      "text/plain": [
       "array([ 0.12,  0.  ,  0.3 ,  0.02,  0.36,  0.2 ])"
      ]
     },
     "execution_count": 84,
     "metadata": {},
     "output_type": "execute_result"
    }
   ],
   "source": [
    "get_feature_importance(pipe_llcluster) "
   ]
  },
  {
   "cell_type": "code",
   "execution_count": 85,
   "metadata": {
    "collapsed": false
   },
   "outputs": [
    {
     "name": "stdout",
     "output_type": "stream",
     "text": [
      "Log score: 1.0718482982652673 for CAT\n"
     ]
    }
   ],
   "source": [
    "pred_ll_test = predictmodel(pipe_llcluster)"
   ]
  },
  {
   "cell_type": "markdown",
   "metadata": {},
   "source": [
    "A little improvement adding the llcluster. No obvious overfitting."
   ]
  },
  {
   "cell_type": "markdown",
   "metadata": {},
   "source": [
    "## Step4: photo length"
   ]
  },
  {
   "cell_type": "code",
   "execution_count": 86,
   "metadata": {
    "collapsed": true
   },
   "outputs": [],
   "source": [
    "photo_length = Pipeline([('photo_extractor', VariableExtractor('photos')),\n",
    "                         ('photo_counts', VariableLength()), \n",
    "                         ('photo_dimup', DimOneUp())\n",
    "    ])"
   ]
  },
  {
   "cell_type": "code",
   "execution_count": 87,
   "metadata": {
    "collapsed": true
   },
   "outputs": [],
   "source": [
    "data4 = photo_length.fit_transform(train_X, train_y)"
   ]
  },
  {
   "cell_type": "code",
   "execution_count": 89,
   "metadata": {
    "collapsed": false
   },
   "outputs": [
    {
     "data": {
      "text/plain": [
       "array([[8],\n",
       "       [7],\n",
       "       [0],\n",
       "       [4],\n",
       "       [6],\n",
       "       [3],\n",
       "       [0],\n",
       "       [4],\n",
       "       [6],\n",
       "       [7]], dtype=int64)"
      ]
     },
     "execution_count": 89,
     "metadata": {},
     "output_type": "execute_result"
    }
   ],
   "source": [
    "data4[:10]"
   ]
  },
  {
   "cell_type": "code",
   "execution_count": 90,
   "metadata": {
    "collapsed": true
   },
   "outputs": [],
   "source": [
    "pipe_photo = Pipeline([\n",
    "        ('feature_union', FeatureUnion([\n",
    "                    ('variable_unchanged', variable_unchanged),\n",
    "                    ('ratio_unions', ratio_unions),\n",
    "                    ('llcluster', llcluster),\n",
    "                    ('photo_length', photo_length)\n",
    "                ])),        \n",
    "        ('predictor', predictor)\n",
    "    ])"
   ]
  },
  {
   "cell_type": "code",
   "execution_count": 91,
   "metadata": {
    "collapsed": false
   },
   "outputs": [
    {
     "name": "stdout",
     "output_type": "stream",
     "text": [
      "Time to fit the trainset: 5.99\n",
      "Log score: 1.0685676500078314\n",
      "Time to make the prediction to the trainset: 0.58\n"
     ]
    }
   ],
   "source": [
    "pipe_photo, pred_photo = fitmodel(pipe_photo)"
   ]
  },
  {
   "cell_type": "code",
   "execution_count": 92,
   "metadata": {
    "collapsed": false
   },
   "outputs": [
    {
     "data": {
      "text/plain": [
       "array([ 0.1 ,  0.02,  0.24,  0.02,  0.24,  0.26,  0.12])"
      ]
     },
     "execution_count": 92,
     "metadata": {},
     "output_type": "execute_result"
    }
   ],
   "source": [
    "get_feature_importance(pipe_photo) "
   ]
  },
  {
   "cell_type": "markdown",
   "metadata": {},
   "source": [
    "bedroom, bathroom, price, bbraio, bpratio, llcluster, photolength"
   ]
  },
  {
   "cell_type": "code",
   "execution_count": 93,
   "metadata": {
    "collapsed": false
   },
   "outputs": [
    {
     "name": "stdout",
     "output_type": "stream",
     "text": [
      "Log score: 1.0689446900372812 for CAT\n"
     ]
    }
   ],
   "source": [
    "pred_photo_test = predictmodel(pipe_photo)"
   ]
  },
  {
   "cell_type": "markdown",
   "metadata": {},
   "source": [
    "A little improvement adding the photo length. No obvious overfitting."
   ]
  },
  {
   "cell_type": "markdown",
   "metadata": {},
   "source": [
    "## Step5: Manager_count"
   ]
  },
  {
   "cell_type": "code",
   "execution_count": 94,
   "metadata": {
    "collapsed": true
   },
   "outputs": [],
   "source": [
    "manager_counts = Pipeline([\n",
    "        ('manager_extractor', VariableExtractor('manager_id')),\n",
    "        ('manager_union', FeatureUnion([\n",
    "                    ('manager_counts', Pipeline([\n",
    "                                ('manager_length', CatVariableCounts()),\n",
    "                                ('manager_dimup', DimOneUp())\n",
    "                            ]))\n",
    "                ]))\n",
    "    ])\n"
   ]
  },
  {
   "cell_type": "code",
   "execution_count": 96,
   "metadata": {
    "collapsed": false
   },
   "outputs": [],
   "source": [
    "data5 = manager_counts.fit_transform(train_X, train_y)"
   ]
  },
  {
   "cell_type": "code",
   "execution_count": 98,
   "metadata": {
    "collapsed": false
   },
   "outputs": [
    {
     "data": {
      "text/plain": [
       "array([[  5],\n",
       "       [  2],\n",
       "       [325],\n",
       "       [ 11],\n",
       "       [118],\n",
       "       [  4],\n",
       "       [ 15],\n",
       "       [114],\n",
       "       [232],\n",
       "       [ 50]], dtype=int64)"
      ]
     },
     "execution_count": 98,
     "metadata": {},
     "output_type": "execute_result"
    }
   ],
   "source": [
    "data5[:10]"
   ]
  },
  {
   "cell_type": "code",
   "execution_count": 99,
   "metadata": {
    "collapsed": true
   },
   "outputs": [],
   "source": [
    "pipe_m_c = Pipeline([\n",
    "        ('feature_union', FeatureUnion([\n",
    "                    ('variable_unchanged', variable_unchanged),\n",
    "                    ('ratio_unions', ratio_unions),\n",
    "                    ('llcluster', llcluster),\n",
    "                    ('photo_length', photo_length),\n",
    "                    ('manager_counts', manager_counts)\n",
    "                ])),        \n",
    "        ('predictor', predictor)\n",
    "    ])"
   ]
  },
  {
   "cell_type": "code",
   "execution_count": 100,
   "metadata": {
    "collapsed": false
   },
   "outputs": [
    {
     "name": "stdout",
     "output_type": "stream",
     "text": [
      "Time to fit the trainset: 6.48\n",
      "Log score: 1.0682254627726508\n",
      "Time to make the prediction to the trainset: 0.80\n"
     ]
    }
   ],
   "source": [
    "pipe_m_c, pred_mc = fitmodel(pipe_m_c)"
   ]
  },
  {
   "cell_type": "code",
   "execution_count": 101,
   "metadata": {
    "collapsed": false
   },
   "outputs": [
    {
     "data": {
      "text/plain": [
       "array([ 0.08,  0.02,  0.22,  0.02,  0.22,  0.14,  0.1 ,  0.2 ])"
      ]
     },
     "execution_count": 101,
     "metadata": {},
     "output_type": "execute_result"
    }
   ],
   "source": [
    "get_feature_importance(pipe_m_c) "
   ]
  },
  {
   "cell_type": "markdown",
   "metadata": {},
   "source": [
    " bathroom, bedroom, price, bbratio, bpratio, llcluster, photolength, mc"
   ]
  },
  {
   "cell_type": "code",
   "execution_count": 103,
   "metadata": {
    "collapsed": false
   },
   "outputs": [
    {
     "name": "stdout",
     "output_type": "stream",
     "text": [
      "Log score: 1.0686196460413642 for CAT\n"
     ]
    }
   ],
   "source": [
    "pred_mc_test = predictmodel(pipe_m_c)"
   ]
  },
  {
   "cell_type": "markdown",
   "metadata": {},
   "source": [
    "A little improvement adding the manager count. No obvious overfitting."
   ]
  },
  {
   "cell_type": "markdown",
   "metadata": {},
   "source": [
    "## Step6: Managers_indicator"
   ]
  },
  {
   "cell_type": "code",
   "execution_count": 104,
   "metadata": {
    "collapsed": true
   },
   "outputs": [],
   "source": [
    "manager_process = Pipeline([\n",
    "        ('manager_extractor', VariableExtractor('manager_id')),\n",
    "        ('manager_union', FeatureUnion([\n",
    "                    ('manager_counts', Pipeline([\n",
    "                                ('manager_length', CatVariableCounts()),\n",
    "                                ('manager_dimup', DimOneUp())\n",
    "                            ])),\n",
    "                    ('manager_indicator', CatVariableIndicator(min_list=10, \n",
    "                                                               threshold={'low': 0.8, 'medium': 0.6, 'low': 0.3}))\n",
    "                ]))\n",
    "    ])\n"
   ]
  },
  {
   "cell_type": "code",
   "execution_count": 106,
   "metadata": {
    "collapsed": false
   },
   "outputs": [],
   "source": [
    "data6 = manager_process.fit_transform(train_X, train_y)"
   ]
  },
  {
   "cell_type": "code",
   "execution_count": 107,
   "metadata": {
    "collapsed": false
   },
   "outputs": [
    {
     "data": {
      "text/plain": [
       "(39481, 3)"
      ]
     },
     "execution_count": 107,
     "metadata": {},
     "output_type": "execute_result"
    }
   ],
   "source": [
    "data6.shape"
   ]
  },
  {
   "cell_type": "code",
   "execution_count": 108,
   "metadata": {
    "collapsed": false
   },
   "outputs": [
    {
     "data": {
      "text/plain": [
       "array([[  5,   0,   0],\n",
       "       [  2,   0,   0],\n",
       "       [325,   1,   0],\n",
       "       [ 11,   1,   0],\n",
       "       [118,   1,   0],\n",
       "       [  4,   0,   0],\n",
       "       [ 15,   1,   0],\n",
       "       [114,   1,   0],\n",
       "       [232,   1,   0],\n",
       "       [ 50,   1,   0]], dtype=int64)"
      ]
     },
     "execution_count": 108,
     "metadata": {},
     "output_type": "execute_result"
    }
   ],
   "source": [
    "data6[:10]"
   ]
  },
  {
   "cell_type": "code",
   "execution_count": 115,
   "metadata": {
    "collapsed": true
   },
   "outputs": [],
   "source": [
    "pipe_m_i = Pipeline([\n",
    "        ('feature_union', FeatureUnion([\n",
    "                    ('variable_unchanged', variable_unchanged),\n",
    "                    ('ratio_unions', ratio_unions),\n",
    "                    ('llcluster', llcluster),\n",
    "                    ('photo_length', photo_length),\n",
    "                    ('manager_process', manager_process)\n",
    "                ])),        \n",
    "        ('predictor', predictor)\n",
    "    ])"
   ]
  },
  {
   "cell_type": "code",
   "execution_count": 116,
   "metadata": {
    "collapsed": false
   },
   "outputs": [
    {
     "name": "stdout",
     "output_type": "stream",
     "text": [
      "Time to fit the trainset: 18.65\n",
      "Log score: 1.0669540400088766\n",
      "Time to make the prediction to the trainset: 8.19\n"
     ]
    }
   ],
   "source": [
    "pipe_m_i, pred_mi = fitmodel(pipe_m_i)"
   ]
  },
  {
   "cell_type": "code",
   "execution_count": 117,
   "metadata": {
    "collapsed": false
   },
   "outputs": [
    {
     "data": {
      "text/plain": [
       "array([ 0.04,  0.  ,  0.18,  0.02,  0.18,  0.14,  0.1 ,  0.24,  0.08,  0.02])"
      ]
     },
     "execution_count": 117,
     "metadata": {},
     "output_type": "execute_result"
    }
   ],
   "source": [
    "get_feature_importance(pipe_m_i) "
   ]
  },
  {
   "cell_type": "markdown",
   "metadata": {},
   "source": [
    "The feature indicators do not help a lot."
   ]
  },
  {
   "cell_type": "code",
   "execution_count": 118,
   "metadata": {
    "collapsed": false
   },
   "outputs": [
    {
     "name": "stdout",
     "output_type": "stream",
     "text": [
      "Log score: 1.0673653516365695 for CAT\n"
     ]
    }
   ],
   "source": [
    "pred_mi_test = predictmodel(pipe_m_i)"
   ]
  },
  {
   "cell_type": "markdown",
   "metadata": {},
   "source": [
    "### How about only using manager process itself"
   ]
  },
  {
   "cell_type": "code",
   "execution_count": 119,
   "metadata": {
    "collapsed": true
   },
   "outputs": [],
   "source": [
    "manager_process_only = Pipeline([\n",
    "        ('feature_union', FeatureUnion([\n",
    "                    ('manager_process', manager_process)\n",
    "                ])),        \n",
    "        ('predictor', predictor)\n",
    "    ])"
   ]
  },
  {
   "cell_type": "code",
   "execution_count": 120,
   "metadata": {
    "collapsed": false
   },
   "outputs": [
    {
     "name": "stdout",
     "output_type": "stream",
     "text": [
      "Time to fit the trainset: 18.05\n",
      "Log score: 1.0826666736772048\n",
      "Time to make the prediction to the trainset: 8.55\n"
     ]
    }
   ],
   "source": [
    "manager_process_only, pred_m = fitmodel(manager_process_only)"
   ]
  },
  {
   "cell_type": "code",
   "execution_count": 121,
   "metadata": {
    "collapsed": false
   },
   "outputs": [
    {
     "data": {
      "text/plain": [
       "array([ 0.8 ,  0.14,  0.06])"
      ]
     },
     "execution_count": 121,
     "metadata": {},
     "output_type": "execute_result"
    }
   ],
   "source": [
    "get_feature_importance(manager_process_only) "
   ]
  },
  {
   "cell_type": "code",
   "execution_count": 122,
   "metadata": {
    "collapsed": false
   },
   "outputs": [
    {
     "name": "stdout",
     "output_type": "stream",
     "text": [
      "Log score: 1.0828867315567432 for CAT\n"
     ]
    }
   ],
   "source": [
    "pred_m_test = predictmodel(manager_process_only)"
   ]
  },
  {
   "cell_type": "markdown",
   "metadata": {},
   "source": [
    "Not so good, seems like the random forest used before overfits"
   ]
  },
  {
   "cell_type": "markdown",
   "metadata": {},
   "source": [
    "## Step6: Building_count"
   ]
  },
  {
   "cell_type": "code",
   "execution_count": 123,
   "metadata": {
    "collapsed": true
   },
   "outputs": [],
   "source": [
    "building_counts = Pipeline([\n",
    "        ('building_extractor', VariableExtractor('building_id')),\n",
    "        ('building_union', FeatureUnion([\n",
    "                    ('building_counts', Pipeline([\n",
    "                                ('building_length', CatVariableCounts()),\n",
    "                                ('building_dimup', DimOneUp())\n",
    "                            ]))\n",
    "                ]))\n",
    "    ])"
   ]
  },
  {
   "cell_type": "code",
   "execution_count": 125,
   "metadata": {
    "collapsed": false
   },
   "outputs": [],
   "source": [
    "data6 = building_counts.fit_transform(train_X)"
   ]
  },
  {
   "cell_type": "code",
   "execution_count": 126,
   "metadata": {
    "collapsed": false
   },
   "outputs": [
    {
     "data": {
      "text/plain": [
       "(39481, 1)"
      ]
     },
     "execution_count": 126,
     "metadata": {},
     "output_type": "execute_result"
    }
   ],
   "source": [
    "data6.shape"
   ]
  },
  {
   "cell_type": "code",
   "execution_count": 127,
   "metadata": {
    "collapsed": true
   },
   "outputs": [],
   "source": [
    "pipe_b_c = Pipeline([\n",
    "        ('feature_union', FeatureUnion([\n",
    "                    ('variable_unchanged', variable_unchanged),\n",
    "                    ('ratio_unions', ratio_unions),\n",
    "                    ('llcluster', llcluster),\n",
    "                    ('photo_length', photo_length),\n",
    "                    ('manager_process', manager_process),\n",
    "                    ('building_counts', building_counts)\n",
    "                ])),        \n",
    "        ('predictor', predictor)\n",
    "    ])"
   ]
  },
  {
   "cell_type": "code",
   "execution_count": 128,
   "metadata": {
    "collapsed": false
   },
   "outputs": [
    {
     "name": "stdout",
     "output_type": "stream",
     "text": [
      "Time to fit the trainset: 19.47\n",
      "Log score: 1.0653566419848486\n",
      "Time to make the prediction to the trainset: 9.83\n"
     ]
    }
   ],
   "source": [
    "pipe_b_c, pred_bc = fitmodel(pipe_b_c)"
   ]
  },
  {
   "cell_type": "code",
   "execution_count": 129,
   "metadata": {
    "collapsed": false
   },
   "outputs": [
    {
     "data": {
      "text/plain": [
       "array([ 0.04,  0.  ,  0.18,  0.02,  0.22,  0.14,  0.1 ,  0.18,  0.06,\n",
       "        0.02,  0.04])"
      ]
     },
     "execution_count": 129,
     "metadata": {},
     "output_type": "execute_result"
    }
   ],
   "source": [
    "get_feature_importance(pipe_b_c) "
   ]
  },
  {
   "cell_type": "markdown",
   "metadata": {},
   "source": [
    "bathroom, bedroom, price, bbratio, bpratio, llcluster, photolength, mc, mc_low, mc_medium, bc"
   ]
  },
  {
   "cell_type": "code",
   "execution_count": 131,
   "metadata": {
    "collapsed": false
   },
   "outputs": [
    {
     "name": "stdout",
     "output_type": "stream",
     "text": [
      "Log score: 1.065833600017015 for CAT\n"
     ]
    }
   ],
   "source": [
    "pred_bc_test = predictmodel(pipe_b_c)"
   ]
  },
  {
   "cell_type": "markdown",
   "metadata": {},
   "source": [
    "## Step7: Address count"
   ]
  },
  {
   "cell_type": "code",
   "execution_count": 132,
   "metadata": {
    "collapsed": true
   },
   "outputs": [],
   "source": [
    "ac = Pipeline([\n",
    "        ('address_cleanser', AddressCleanser()),\n",
    "        ('address_union', FeatureUnion([\n",
    "                    ('address_counts', Pipeline([\n",
    "                                ('address_length', CatVariableCounts()),\n",
    "                                ('address_dimup', DimOneUp())\n",
    "                            ]))\n",
    "                ]))\n",
    "    ])\n"
   ]
  },
  {
   "cell_type": "code",
   "execution_count": 133,
   "metadata": {
    "collapsed": true
   },
   "outputs": [],
   "source": [
    "data7 = ac.fit_transform(train_X)"
   ]
  },
  {
   "cell_type": "code",
   "execution_count": 134,
   "metadata": {
    "collapsed": false
   },
   "outputs": [
    {
     "data": {
      "text/plain": [
       "(39481, 1)"
      ]
     },
     "execution_count": 134,
     "metadata": {},
     "output_type": "execute_result"
    }
   ],
   "source": [
    "data7.shape"
   ]
  },
  {
   "cell_type": "code",
   "execution_count": 135,
   "metadata": {
    "collapsed": true
   },
   "outputs": [],
   "source": [
    "pipe_a_c = Pipeline([\n",
    "        ('feature_union', FeatureUnion([\n",
    "                    ('variable_unchanged', variable_unchanged),\n",
    "                    ('ratio_unions', ratio_unions),\n",
    "                    ('llcluster', llcluster),\n",
    "                    ('photo_length', photo_length),\n",
    "                    ('manager_process', manager_process),\n",
    "                    ('building_counts', building_counts),\n",
    "                    ('ac', ac)\n",
    "                ])),        \n",
    "        ('predictor', predictor)\n",
    "    ])"
   ]
  },
  {
   "cell_type": "code",
   "execution_count": 136,
   "metadata": {
    "collapsed": false
   },
   "outputs": [
    {
     "name": "stdout",
     "output_type": "stream",
     "text": [
      "Time to fit the trainset: 20.30\n",
      "Log score: 1.065798313274488\n",
      "Time to make the prediction to the trainset: 9.51\n"
     ]
    }
   ],
   "source": [
    "pipe_a_c, pred_ac = fitmodel(pipe_a_c)"
   ]
  },
  {
   "cell_type": "code",
   "execution_count": 137,
   "metadata": {
    "collapsed": false
   },
   "outputs": [
    {
     "data": {
      "text/plain": [
       "array([ 0.04,  0.  ,  0.16,  0.02,  0.2 ,  0.14,  0.1 ,  0.16,  0.08,\n",
       "        0.02,  0.04,  0.04])"
      ]
     },
     "execution_count": 137,
     "metadata": {},
     "output_type": "execute_result"
    }
   ],
   "source": [
    "get_feature_importance(pipe_a_c) "
   ]
  },
  {
   "cell_type": "markdown",
   "metadata": {},
   "source": [
    "AC seems not helpful."
   ]
  },
  {
   "cell_type": "code",
   "execution_count": 138,
   "metadata": {
    "collapsed": false
   },
   "outputs": [
    {
     "name": "stdout",
     "output_type": "stream",
     "text": [
      "Log score: 1.065978658380682 for CAT\n"
     ]
    }
   ],
   "source": [
    "pred_bc_test = predictmodel(pipe_a_c)"
   ]
  },
  {
   "cell_type": "markdown",
   "metadata": {},
   "source": [
    "## Step8: Address indicator & building indicator"
   ]
  },
  {
   "cell_type": "code",
   "execution_count": 142,
   "metadata": {
    "collapsed": true
   },
   "outputs": [],
   "source": [
    "building_process = Pipeline([\n",
    "        ('building_extractor', VariableExtractor('building_id')),\n",
    "        ('building_union', FeatureUnion([\n",
    "                    ('building_counts', Pipeline([\n",
    "                                ('building_length', CatVariableCounts()),\n",
    "                                ('building_dimup', DimOneUp())\n",
    "                            ])),\n",
    "                    ('building_indicator', CatVariableIndicator(min_list=10, \n",
    "                                                               threshold={'low': 0.8, 'medium': 0.6, 'low': 0.3}))\n",
    "                ]))\n",
    "    ])\n",
    "\n"
   ]
  },
  {
   "cell_type": "code",
   "execution_count": 143,
   "metadata": {
    "collapsed": true
   },
   "outputs": [],
   "source": [
    "data81 = building_process.fit_transform(train_X, train_y)"
   ]
  },
  {
   "cell_type": "code",
   "execution_count": 149,
   "metadata": {
    "collapsed": false
   },
   "outputs": [
    {
     "data": {
      "text/plain": [
       "array([[  17,    1,    0],\n",
       "       [6643,    1,    0],\n",
       "       [ 116,    1,    0],\n",
       "       [6643,    1,    0],\n",
       "       [  15,    1,    0],\n",
       "       [6643,    1,    0],\n",
       "       [6643,    1,    0],\n",
       "       [  56,    1,    0],\n",
       "       [ 102,    1,    0],\n",
       "       [  22,    1,    0]], dtype=int64)"
      ]
     },
     "execution_count": 149,
     "metadata": {},
     "output_type": "execute_result"
    }
   ],
   "source": [
    "data81[:10]"
   ]
  },
  {
   "cell_type": "code",
   "execution_count": 145,
   "metadata": {
    "collapsed": true
   },
   "outputs": [],
   "source": [
    "address_process = Pipeline([\n",
    "        ('address_cleanser', AddressCleanser()),\n",
    "        ('address_union', FeatureUnion([\n",
    "                    ('address_counts', Pipeline([\n",
    "                                ('address_length', CatVariableCounts()),\n",
    "                                ('address_dimup', DimOneUp())\n",
    "                            ])),\n",
    "                    ('address_indicator', CatVariableIndicator(min_list=10, \n",
    "                                                               threshold={'low': 0.8, 'medium': 0.6, 'low': 0.3}))\n",
    "                ]))\n",
    "    ])\n"
   ]
  },
  {
   "cell_type": "code",
   "execution_count": 146,
   "metadata": {
    "collapsed": true
   },
   "outputs": [],
   "source": [
    "data82 = address_process.fit_transform(train_X, train_y)"
   ]
  },
  {
   "cell_type": "code",
   "execution_count": 148,
   "metadata": {
    "collapsed": false
   },
   "outputs": [
    {
     "data": {
      "text/plain": [
       "array([[  8,   0,   0],\n",
       "       [  2,   0,   0],\n",
       "       [301,   1,   0],\n",
       "       [  1,   0,   0],\n",
       "       [ 41,   1,   0],\n",
       "       [121,   1,   0],\n",
       "       [149,   1,   0],\n",
       "       [150,   1,   0],\n",
       "       [128,   1,   0],\n",
       "       [ 53,   1,   0]], dtype=int64)"
      ]
     },
     "execution_count": 148,
     "metadata": {},
     "output_type": "execute_result"
    }
   ],
   "source": [
    "data82[:10]"
   ]
  },
  {
   "cell_type": "code",
   "execution_count": 150,
   "metadata": {
    "collapsed": true
   },
   "outputs": [],
   "source": [
    "pipe_ab_p = Pipeline([\n",
    "        ('feature_union', FeatureUnion([\n",
    "                    ('variable_unchanged', variable_unchanged),\n",
    "                    ('ratio_unions', ratio_unions),\n",
    "                    ('llcluster', llcluster),\n",
    "                    ('photo_length', photo_length),\n",
    "                    ('manager_process', manager_process),\n",
    "                    ('building_process', building_process),\n",
    "                    ('address_process', address_process)\n",
    "                ])),        \n",
    "        ('predictor', predictor)\n",
    "    ])"
   ]
  },
  {
   "cell_type": "code",
   "execution_count": 151,
   "metadata": {
    "collapsed": false
   },
   "outputs": [
    {
     "name": "stdout",
     "output_type": "stream",
     "text": [
      "Time to fit the trainset: 41.20\n",
      "Log score: 1.0655419708554426\n",
      "Time to make the prediction to the trainset: 24.45\n"
     ]
    }
   ],
   "source": [
    "pipe_ab_p, pred_ab = fitmodel(pipe_ab_p)"
   ]
  },
  {
   "cell_type": "code",
   "execution_count": 152,
   "metadata": {
    "collapsed": false
   },
   "outputs": [
    {
     "data": {
      "text/plain": [
       "array([ 0.04,  0.  ,  0.14,  0.02,  0.22,  0.14,  0.1 ,  0.16,  0.08,\n",
       "        0.02,  0.02,  0.  ,  0.02,  0.02,  0.  ,  0.02])"
      ]
     },
     "execution_count": 152,
     "metadata": {},
     "output_type": "execute_result"
    }
   ],
   "source": [
    "get_feature_importance(pipe_a_c) "
   ]
  },
  {
   "cell_type": "markdown",
   "metadata": {},
   "source": [
    "bathroom, bedroom, price, bbratio, bpratio, llcluster, photolength, mc, mc_low, mc_medium, bc, bc_low, bc_m, ac, ac_l, ac_m"
   ]
  },
  {
   "cell_type": "code",
   "execution_count": 154,
   "metadata": {
    "collapsed": false
   },
   "outputs": [
    {
     "name": "stdout",
     "output_type": "stream",
     "text": [
      "Log score: 1.0657994409853349 for CAT\n"
     ]
    }
   ],
   "source": [
    "pred_bc_test = predictmodel(pipe_ab_p)"
   ]
  },
  {
   "cell_type": "code",
   "execution_count": null,
   "metadata": {
    "collapsed": true
   },
   "outputs": [],
   "source": [
    "# in mu opinion, only keep manager, no use of address, building. can build small models and add share."
   ]
  }
 ],
 "metadata": {
  "kernelspec": {
   "display_name": "Python 3",
   "language": "python",
   "name": "python3"
  },
  "language_info": {
   "codemirror_mode": {
    "name": "ipython",
    "version": 3
   },
   "file_extension": ".py",
   "mimetype": "text/x-python",
   "name": "python",
   "nbconvert_exporter": "python",
   "pygments_lexer": "ipython3",
   "version": "3.5.2"
  }
 },
 "nbformat": 4,
 "nbformat_minor": 0
}
