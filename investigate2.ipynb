{
 "cells": [
  {
   "cell_type": "markdown",
   "metadata": {},
   "source": [
    "## Investigate 2: feature size of each step"
   ]
  },
  {
   "cell_type": "code",
   "execution_count": 12,
   "metadata": {
    "collapsed": false
   },
   "outputs": [],
   "source": [
    "# define the transformers\n",
    "import pandas as pd\n",
    "import numpy as np\n",
    "from matplotlib import pyplot as plt\n",
    "from sklearn.feature_extraction.text import CountVectorizer, TfidfVectorizer, TfidfTransformer\n",
    "from sklearn.preprocessing import StandardScaler, OneHotEncoder\n",
    "from sklearn.cluster import MiniBatchKMeans\n",
    "from sklearn.linear_model import SGDRegressor\n",
    "from sklearn.pipeline import Pipeline, FeatureUnion\n",
    "from sklearn.cross_validation import KFold\n",
    "from sklearn.feature_extraction.text import CountVectorizer\n",
    "from sklearn.feature_extraction.text import TfidfVectorizer\n",
    "from sklearn.ensemble import RandomForestClassifier\n",
    "from sklearn.metrics import log_loss\n",
    "from sklearn.base import TransformerMixin\n",
    "from sklearn.ensemble import AdaBoostClassifier\n",
    "from sklearn.model_selection import train_test_split\n",
    "from bs4 import BeautifulSoup \n",
    "from nltk.stem.snowball import SnowballStemmer\n",
    "from nltk.tokenize import RegexpTokenizer\n",
    "import random\n",
    "from collections import defaultdict\n",
    "import re\n",
    "import time \n",
    "%matplotlib inline\n"
   ]
  },
  {
   "cell_type": "code",
   "execution_count": 4,
   "metadata": {
    "collapsed": false
   },
   "outputs": [],
   "source": [
    "# import transformers\n",
    "from transformers import *"
   ]
  },
  {
   "cell_type": "code",
   "execution_count": 6,
   "metadata": {
    "collapsed": true
   },
   "outputs": [],
   "source": [
    "random_state = 123"
   ]
  },
  {
   "cell_type": "code",
   "execution_count": 7,
   "metadata": {
    "collapsed": false
   },
   "outputs": [],
   "source": [
    "# build pipelines\n",
    "variable_unchanged = Pipeline([('variable_extractor', VariableExtractor(['bedrooms', 'bathrooms', 'price']))])\n",
    "bbratio = Pipeline([\n",
    "        ('room_ratio', RatioCreator('bedrooms', 'bathrooms')),\n",
    "        ('bbratio_dimup', DimOneUp())\n",
    "    ])\n",
    "bpratio = Pipeline([\n",
    "        ('priceroom_ratio', RatioCreator('price', 'bedrooms')),\n",
    "        ('bpratio_dimup', DimOneUp())\n",
    "    ])\n",
    "llcluster = Pipeline([\n",
    "        ('ll_extractor', VariableExtractor(['longitude', 'latitude'])),\n",
    "        ('ll_cluster', LLCluster(init='k-means++', n_clusters=10, batch_size=200, n_init=10, \n",
    "                                 max_no_improvement=10, verbose=0, random_state=random_state)),\n",
    "        ('llcluster_dimup', DimOneUp())                     \n",
    "    ])\n",
    "\n",
    "feature_process = Pipeline([\n",
    "        ('feature_cleanser', FeatureCleanser()),\n",
    "        ('feature_union', FeatureUnion([\n",
    "                    ('feature_counts', Pipeline([\n",
    "                                ('feature_length', VariableLength()),\n",
    "                                ('feature_dimup', DimOneUp())\n",
    "                            ])),\n",
    "                    ('different_features', DiffFeatCounts())\n",
    "                ]))\n",
    "    ])\n",
    "\n",
    "description_process = FeatureUnion([\n",
    "        ('description_length', Pipeline([('description_counts', DescriptionWordCounts()),\n",
    "                                     ('dc_dimup', DimOneUp())\n",
    "                                    ])\n",
    "        ), \n",
    "        ('description_tf', DescriptionProcessor())\n",
    "    ])\n",
    "\n",
    "photo_length = Pipeline([('photo_extractor', VariableExtractor('photos')),\n",
    "                         ('photo_counts', VariableLength()), \n",
    "                         ('photo_dimup', DimOneUp())\n",
    "    ])\n",
    "\n",
    "building_process = Pipeline([\n",
    "        ('building_extractor', VariableExtractor('building_id')),\n",
    "        ('building_union', FeatureUnion([\n",
    "                    ('building_counts', Pipeline([\n",
    "                                ('building_length', CatVariableCounts()),\n",
    "                                ('building_dimup', DimOneUp())\n",
    "                            ])),\n",
    "                    ('building_indicator', CatVariableIndicator())\n",
    "                ]))\n",
    "    ])\n",
    "\n",
    "manager_process = Pipeline([\n",
    "        ('manager_extractor', VariableExtractor('manager_id')),\n",
    "        ('manager_union', FeatureUnion([\n",
    "                    ('manager_counts', Pipeline([\n",
    "                                ('manager_length', CatVariableCounts()),\n",
    "                                ('manager_dimup', DimOneUp())\n",
    "                            ])),\n",
    "                    ('manager_indicator', CatVariableIndicator())\n",
    "                ]))\n",
    "    ])\n",
    "\n",
    "date_process = Pipeline([\n",
    "        ('hour_extractor', DateProcessor(wantyear=False, wantmonth=False, wanthour=True)),\n",
    "        ('hour_dimup', DimOneUp())\n",
    "    ])\n",
    "\n",
    "address_process = Pipeline([\n",
    "        ('address_cleanser', AddressCleanser()),\n",
    "        ('address_union', FeatureUnion([\n",
    "                    ('address_counts', Pipeline([\n",
    "                                ('address_length', CatVariableCounts()),\n",
    "                                ('address_dimup', DimOneUp())\n",
    "                            ])),\n",
    "                    ('address_indicator', CatVariableIndicator())\n",
    "                ]))\n",
    "    ])\n"
   ]
  },
  {
   "cell_type": "code",
   "execution_count": 9,
   "metadata": {
    "collapsed": true
   },
   "outputs": [],
   "source": [
    "# build predictors\n",
    "predictor = AdaBoostClassifier(random_state=random_state)"
   ]
  },
  {
   "cell_type": "code",
   "execution_count": 11,
   "metadata": {
    "collapsed": false
   },
   "outputs": [
    {
     "name": "stdout",
     "output_type": "stream",
     "text": [
      "Read in training data set with size of 49352 * 15\n",
      "Read in testing data set with size of 74659 * 14\n"
     ]
    }
   ],
   "source": [
    "# read in the data \n",
    "# read in the training data set\n",
    "train_set = pd.read_json(r'..\\data\\train.json')\n",
    "test_set = pd.read_json(r'..\\data\\test.json')\n",
    "print(\"Read in training data set with size of {} * {}\".format(train_set.shape[0], train_set.shape[1]))\n",
    "print(\"Read in testing data set with size of {} * {}\".format(test_set.shape[0], test_set.shape[1]))"
   ]
  },
  {
   "cell_type": "code",
   "execution_count": 15,
   "metadata": {
    "collapsed": false
   },
   "outputs": [],
   "source": [
    "orig_X = train_set.drop('interest_level', axis=1)\n",
    "orig_y = train_set['interest_level']"
   ]
  },
  {
   "cell_type": "code",
   "execution_count": 22,
   "metadata": {
    "collapsed": true
   },
   "outputs": [],
   "source": [
    "train_X, test_X, train_y, test_y = train_test_split(orig_X, orig_y, test_size=0.2, \n",
    "                                                    random_state=random_state, stratify=orig_y )"
   ]
  },
  {
   "cell_type": "code",
   "execution_count": 27,
   "metadata": {
    "collapsed": false
   },
   "outputs": [
    {
     "name": "stdout",
     "output_type": "stream",
     "text": [
      "Size: train_X: (39481, 14), train_y: 39481\n",
      "Size: test_X: (9871, 14), test_y: 9871\n"
     ]
    }
   ],
   "source": [
    "print(\"Size: train_X: {}, train_y: {}\".format(train_X.shape, len(train_y)))\n",
    "print(\"Size: test_X: {}, test_y: {}\".format(test_X.shape, len(test_y)))\n"
   ]
  },
  {
   "cell_type": "code",
   "execution_count": 31,
   "metadata": {
    "collapsed": false
   },
   "outputs": [
    {
     "name": "stdout",
     "output_type": "stream",
     "text": [
      "Train set:\n",
      "low       0.694689\n",
      "medium    0.227527\n",
      "high      0.077784\n",
      "Name: interest_level, dtype: float64\n",
      "\n",
      "Test set:\n",
      "low       0.694661\n",
      "medium    0.227535\n",
      "high      0.077804\n",
      "Name: interest_level, dtype: float64\n"
     ]
    }
   ],
   "source": [
    "# check the distribution of y\n",
    "print('Train set:')\n",
    "print(train_y.value_counts(normalize=True))\n",
    "print('\\nTest set:')\n",
    "print(test_y.value_counts(normalize=True))"
   ]
  },
  {
   "cell_type": "markdown",
   "metadata": {},
   "source": [
    "The split is balanced."
   ]
  },
  {
   "cell_type": "code",
   "execution_count": 43,
   "metadata": {
    "collapsed": true
   },
   "outputs": [],
   "source": [
    "def fitmodel(pipeline):\n",
    "    t1 =time.time()\n",
    "    pipeline.fit(train_X, train_y)\n",
    "    print('Time to fit the trainset: {:.2f}'.format((time.time()-t1)))\n",
    "    t1 =time.time()\n",
    "    pred_prob = pipeline.predict_proba(train_X)\n",
    "    print('Log score: {}'.format(log_loss(train_y, pred_prob)))\n",
    "    print('Time to make the prediction to the trainset: {:.2f}'.format((time.time()-t1)))\n",
    "    return pipeline, pred_prob\n",
    "    "
   ]
  },
  {
   "cell_type": "code",
   "execution_count": 48,
   "metadata": {
    "collapsed": true
   },
   "outputs": [],
   "source": [
    "def predictmodel(pipeline):\n",
    "    pred_unchanged_test = pipeline.predict_proba(test_X)\n",
    "    print('Log score: {} for CAT'.format(log_loss(test_y, pred_unchanged_test)))\n",
    "    return pred_unchanged_test\n",
    "\n",
    "    "
   ]
  },
  {
   "cell_type": "code",
   "execution_count": 51,
   "metadata": {
    "collapsed": true
   },
   "outputs": [],
   "source": [
    "def get_feature_importance(pipeline):\n",
    "    return pipeline.named_steps['predictor'].feature_importances_ \n"
   ]
  },
  {
   "cell_type": "markdown",
   "metadata": {},
   "source": [
    "## Build pipline step by step"
   ]
  },
  {
   "cell_type": "markdown",
   "metadata": {},
   "source": [
    "### Step1: Unchanged Features"
   ]
  },
  {
   "cell_type": "markdown",
   "metadata": {},
   "source": [
    "variable_unchanged = Pipeline([('variable_extractor', VariableExtractor(['bedrooms', 'bathrooms', 'price']))])\n"
   ]
  },
  {
   "cell_type": "code",
   "execution_count": 37,
   "metadata": {
    "collapsed": true
   },
   "outputs": [],
   "source": [
    "data1 = variable_unchanged.fit_transform(train_X, train_y)"
   ]
  },
  {
   "cell_type": "code",
   "execution_count": 38,
   "metadata": {
    "collapsed": false
   },
   "outputs": [
    {
     "data": {
      "text/plain": [
       "(39481, 3)"
      ]
     },
     "execution_count": 38,
     "metadata": {},
     "output_type": "execute_result"
    }
   ],
   "source": [
    "data1.shape"
   ]
  },
  {
   "cell_type": "code",
   "execution_count": 40,
   "metadata": {
    "collapsed": true
   },
   "outputs": [],
   "source": [
    "pipe_unchaged = Pipeline([\n",
    "        ('variable_unchanged', variable_unchanged),\n",
    "        ('predictor', predictor)\n",
    "    ])"
   ]
  },
  {
   "cell_type": "code",
   "execution_count": 45,
   "metadata": {
    "collapsed": false
   },
   "outputs": [
    {
     "name": "stdout",
     "output_type": "stream",
     "text": [
      "Time to fit the trainset: 4.59\n",
      "Log score: 1.0758216934480005\n",
      "Time to make the prediction to the trainset: 0.43\n"
     ]
    }
   ],
   "source": [
    "pipe_unchaged, pred_unchanged_train = fitmodel(pipe_unchaged)"
   ]
  },
  {
   "cell_type": "code",
   "execution_count": 52,
   "metadata": {
    "collapsed": false
   },
   "outputs": [
    {
     "data": {
      "text/plain": [
       "array([ 0.16,  0.16,  0.68])"
      ]
     },
     "execution_count": 52,
     "metadata": {},
     "output_type": "execute_result"
    }
   ],
   "source": [
    "# importance features\n",
    "get_feature_importance(pipe_unchaged) "
   ]
  },
  {
   "cell_type": "markdown",
   "metadata": {},
   "source": [
    "price is more important among the 3 variables."
   ]
  },
  {
   "cell_type": "code",
   "execution_count": 49,
   "metadata": {
    "collapsed": false
   },
   "outputs": [
    {
     "name": "stdout",
     "output_type": "stream",
     "text": [
      "Log score: 1.0758768675370136 for CAT\n"
     ]
    }
   ],
   "source": [
    "pred_unchanged_test = predictmodel(pipe_unchaged)"
   ]
  },
  {
   "cell_type": "markdown",
   "metadata": {},
   "source": [
    "Unchanged variables make sense, no obvious overfitting. "
   ]
  },
  {
   "cell_type": "markdown",
   "metadata": {},
   "source": [
    "## Step2: ratios"
   ]
  },
  {
   "cell_type": "code",
   "execution_count": null,
   "metadata": {
    "collapsed": true
   },
   "outputs": [],
   "source": []
  }
 ],
 "metadata": {
  "kernelspec": {
   "display_name": "Python 3",
   "language": "python",
   "name": "python3"
  },
  "language_info": {
   "codemirror_mode": {
    "name": "ipython",
    "version": 3
   },
   "file_extension": ".py",
   "mimetype": "text/x-python",
   "name": "python",
   "nbconvert_exporter": "python",
   "pygments_lexer": "ipython3",
   "version": "3.5.2"
  }
 },
 "nbformat": 4,
 "nbformat_minor": 0
}
