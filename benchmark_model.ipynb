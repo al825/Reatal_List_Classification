{
 "cells": [
  {
   "cell_type": "code",
   "execution_count": 1,
   "metadata": {
    "collapsed": true
   },
   "outputs": [],
   "source": [
    "# use price, bedrooms, bathrooms to build a bench mark model\n",
    "# try sklearn pipline"
   ]
  },
  {
   "cell_type": "code",
   "execution_count": 37,
   "metadata": {
    "collapsed": false
   },
   "outputs": [],
   "source": [
    "import pandas as pd\n",
    "import numpy as np\n",
    "from sklearn.feature_extraction import DictVectorizer\n",
    "from sklearn.feature_extraction.text import CountVectorizer, TfidfVectorizer, TfidfTransformer\n",
    "from sklearn.preprocessing import StandardScaler, OneHotEncoder\n",
    "from sklearn.cluster import MiniBatchKMeans\n",
    "from sklearn.linear_model import SGDRegressor\n",
    "from sklearn.pipeline import Pipeline, FeatureUnion\n",
    "from sklearn.cross_validation import KFold\n",
    "from sklearn.ensemble import RandomForestClassifier\n",
    "from sklearn.base import TransformerMixin\n"
   ]
  },
  {
   "cell_type": "code",
   "execution_count": 7,
   "metadata": {
    "collapsed": false
   },
   "outputs": [
    {
     "name": "stdout",
     "output_type": "stream",
     "text": [
      "Read in training data set with size of 49352 * 15\n",
      "Read in testing data set with size of 74659 * 14\n"
     ]
    }
   ],
   "source": [
    "# read in the training data set\n",
    "train_set = pd.read_json(r'..\\data\\train.json')\n",
    "test_set = pd.read_json(r'..\\data\\test.json')\n",
    "print(\"Read in training data set with size of {} * {}\".format(train_set.shape[0], train_set.shape[1]))\n",
    "print(\"Read in testing data set with size of {} * {}\".format(test_set.shape[0], test_set.shape[1]))\n"
   ]
  },
  {
   "cell_type": "code",
   "execution_count": 18,
   "metadata": {
    "collapsed": false
   },
   "outputs": [
    {
     "data": {
      "text/plain": [
       "10        medium\n",
       "10000        low\n",
       "100004      high\n",
       "100007       low\n",
       "100013       low\n",
       "Name: interest_level, dtype: object"
      ]
     },
     "execution_count": 18,
     "metadata": {},
     "output_type": "execute_result"
    }
   ],
   "source": [
    "train_X = train_set.drop('interest_level', axis=1)\n",
    "train_y = train_set['interest_level']\n",
    "train_y.head()"
   ]
  },
  {
   "cell_type": "code",
   "execution_count": 8,
   "metadata": {
    "collapsed": false
   },
   "outputs": [
    {
     "data": {
      "text/plain": [
       "Index(['bathrooms', 'bedrooms', 'building_id', 'created', 'description',\n",
       "       'display_address', 'features', 'interest_level', 'latitude',\n",
       "       'listing_id', 'longitude', 'manager_id', 'photos', 'price',\n",
       "       'street_address'],\n",
       "      dtype='object')"
      ]
     },
     "execution_count": 8,
     "metadata": {},
     "output_type": "execute_result"
    }
   ],
   "source": [
    "train_set.columns"
   ]
  },
  {
   "cell_type": "code",
   "execution_count": 59,
   "metadata": {
    "collapsed": false
   },
   "outputs": [
    {
     "name": "stdout",
     "output_type": "stream",
     "text": [
      "high 1259\n",
      "low 44785\n",
      "medium 3308\n",
      "Score: 0.7286026908737234\n"
     ]
    }
   ],
   "source": [
    "# build a random forest model using bedrooms, bathrooms and price\n",
    "predictor = RandomForestClassifier(random_state=123)\n",
    "predictor.fit(train_X[['bedrooms', 'bathrooms', 'price']], train_y)\n",
    "pred = predictor.predict(train_X[['bedrooms', 'bathrooms', 'price']])\n",
    "score = predictor.score(train_X[['bedrooms', 'bathrooms', 'price']], train_y)\n",
    "\n",
    "unique, counts = np.unique(pred, return_counts=True)\n",
    "\n",
    "for u, c in zip(unique, counts):\n",
    "    print(u, c)\n",
    "print('Score: {}'.format(score))\n"
   ]
  },
  {
   "cell_type": "code",
   "execution_count": 63,
   "metadata": {
    "collapsed": false
   },
   "outputs": [],
   "source": [
    "class FeatureExtractor(TransformerMixin):\n",
    "    '''Extract Feature(s) from trainning data set.'''\n",
    "    def __init__(self, feature):\n",
    "        self.feature = feature\n",
    "\n",
    "    def transform(self, data):\n",
    "        return data[self.feature]\n",
    "\n",
    "    def fit(self, *_):\n",
    "        return self\n"
   ]
  },
  {
   "cell_type": "code",
   "execution_count": 64,
   "metadata": {
    "collapsed": true
   },
   "outputs": [],
   "source": [
    "class ArrayUpDimension(TransformerMixin):\n",
    "    '''Turn Series into DataFrame.'''\n",
    "    def transform(self, data):\n",
    "        return data.reshape((data.shape[0], 1))\n",
    "    def fit(self, *_):\n",
    "        return self"
   ]
  },
  {
   "cell_type": "code",
   "execution_count": 48,
   "metadata": {
    "collapsed": false
   },
   "outputs": [
    {
     "data": {
      "text/plain": [
       "(49352,)"
      ]
     },
     "execution_count": 48,
     "metadata": {},
     "output_type": "execute_result"
    }
   ],
   "source": [
    "a = FeatureExtractor('bedrooms')\n",
    "b = a.transform(train_X)\n",
    "b.shape"
   ]
  },
  {
   "cell_type": "code",
   "execution_count": 52,
   "metadata": {
    "collapsed": false
   },
   "outputs": [],
   "source": [
    "bedrooms_featurizer = Pipeline([\n",
    "  ('bedroom_extractor', FeatureExtractor('bedrooms')),\n",
    "  ('bedroom_dim', ArrayUpDimension())\n",
    "])\n",
    "\n",
    "bathrooms_featurizer = Pipeline([\n",
    "    ('bathroom_extractor', FeatureExtractor('bathrooms')),\n",
    "    ('bathroom_dim', ArrayUpDimension())        \n",
    "])\n",
    "\n",
    "price_featurizer = Pipeline([\n",
    "    ('price_extractor', FeatureExtractor('price')),\n",
    "    ('price_dim', ArrayUpDimension())\n",
    "])"
   ]
  },
  {
   "cell_type": "code",
   "execution_count": 53,
   "metadata": {
    "collapsed": false
   },
   "outputs": [],
   "source": [
    "features = FeatureUnion([\n",
    "  ('bedroom_feature', bedrooms_featurizer),\n",
    "  ('source_featurs', bathrooms_featurizer),\n",
    "  ('location_featurizer', price_featurizer)\n",
    "])\n",
    "\n",
    "predictor = RandomForestClassifier(random_state=123)\n",
    "\n",
    "pipeline = Pipeline([\n",
    "  ('feature_union',  features),\n",
    "  ('predictor',      predictor)\n",
    "])"
   ]
  },
  {
   "cell_type": "code",
   "execution_count": 54,
   "metadata": {
    "collapsed": false
   },
   "outputs": [
    {
     "data": {
      "text/plain": [
       "Pipeline(steps=[('feature_union', FeatureUnion(n_jobs=1,\n",
       "       transformer_list=[('bedroom_feature', Pipeline(steps=[('bedroom_extractor', <__main__.FeatureExtractor object at 0x0000028729BF9898>), ('bedroom_dim', <__main__.ArrayUpDimension object at 0x0000028729BF9828>)])), ('source_featurs', Pipeline(step...timators=10, n_jobs=1, oob_score=False, random_state=123,\n",
       "            verbose=0, warm_start=False))])"
      ]
     },
     "execution_count": 54,
     "metadata": {},
     "output_type": "execute_result"
    }
   ],
   "source": [
    "features\n",
    "pipeline"
   ]
  },
  {
   "cell_type": "code",
   "execution_count": 60,
   "metadata": {
    "collapsed": false
   },
   "outputs": [
    {
     "data": {
      "text/plain": [
       "0.72860269087372342"
      ]
     },
     "execution_count": 60,
     "metadata": {},
     "output_type": "execute_result"
    }
   ],
   "source": [
    "pipeline.fit(train_X, train_y)\n",
    "pipeline.score(train_X, train_y)"
   ]
  },
  {
   "cell_type": "code",
   "execution_count": 61,
   "metadata": {
    "collapsed": true
   },
   "outputs": [],
   "source": [
    "features2 = FeatureExtractor(['bedrooms', 'bathrooms', 'price'])\n",
    "pipeline2 = Pipeline([\n",
    "  ('feature_union',  features2),\n",
    "  ('predictor',      predictor)\n",
    "])"
   ]
  },
  {
   "cell_type": "code",
   "execution_count": 62,
   "metadata": {
    "collapsed": false
   },
   "outputs": [
    {
     "data": {
      "text/plain": [
       "0.72860269087372342"
      ]
     },
     "execution_count": 62,
     "metadata": {},
     "output_type": "execute_result"
    }
   ],
   "source": [
    "pipeline2.fit(train_X, train_y)\n",
    "pipeline2.score(train_X, train_y)"
   ]
  },
  {
   "cell_type": "code",
   "execution_count": 70,
   "metadata": {
    "collapsed": false
   },
   "outputs": [],
   "source": [
    "# use this model to train the test data set\n",
    "test_pred_prob = pipeline.predict_proba(test_set)"
   ]
  },
  {
   "cell_type": "code",
   "execution_count": 76,
   "metadata": {
    "collapsed": false
   },
   "outputs": [
    {
     "data": {
      "text/plain": [
       "array(['high', 'low', 'medium'], dtype=object)"
      ]
     },
     "execution_count": 76,
     "metadata": {},
     "output_type": "execute_result"
    }
   ],
   "source": [
    "pipeline.classes_"
   ]
  },
  {
   "cell_type": "code",
   "execution_count": 111,
   "metadata": {
    "collapsed": false
   },
   "outputs": [],
   "source": [
    "test_pred_prob_set = pd.DataFrame(test_pred_prob, columns=pipeline.classes_, index=test_set.index)\n",
    "test_pred_prob_set = test_pred_prob_set.join(test_set['listing_id'])"
   ]
  },
  {
   "cell_type": "code",
   "execution_count": 112,
   "metadata": {
    "collapsed": false
   },
   "outputs": [
    {
     "data": {
      "text/html": [
       "<div>\n",
       "<table border=\"1\" class=\"dataframe\">\n",
       "  <thead>\n",
       "    <tr style=\"text-align: right;\">\n",
       "      <th></th>\n",
       "      <th>high</th>\n",
       "      <th>low</th>\n",
       "      <th>medium</th>\n",
       "      <th>listing_id</th>\n",
       "    </tr>\n",
       "  </thead>\n",
       "  <tbody>\n",
       "    <tr>\n",
       "      <th>0</th>\n",
       "      <td>0.046202</td>\n",
       "      <td>0.756425</td>\n",
       "      <td>0.197373</td>\n",
       "      <td>7142618</td>\n",
       "    </tr>\n",
       "    <tr>\n",
       "      <th>1</th>\n",
       "      <td>0.108210</td>\n",
       "      <td>0.509232</td>\n",
       "      <td>0.382558</td>\n",
       "      <td>7210040</td>\n",
       "    </tr>\n",
       "    <tr>\n",
       "      <th>100</th>\n",
       "      <td>0.000000</td>\n",
       "      <td>1.000000</td>\n",
       "      <td>0.000000</td>\n",
       "      <td>7103890</td>\n",
       "    </tr>\n",
       "    <tr>\n",
       "      <th>1000</th>\n",
       "      <td>0.063062</td>\n",
       "      <td>0.635563</td>\n",
       "      <td>0.301375</td>\n",
       "      <td>7143442</td>\n",
       "    </tr>\n",
       "    <tr>\n",
       "      <th>100000</th>\n",
       "      <td>0.000000</td>\n",
       "      <td>0.822888</td>\n",
       "      <td>0.177112</td>\n",
       "      <td>6860601</td>\n",
       "    </tr>\n",
       "  </tbody>\n",
       "</table>\n",
       "</div>"
      ],
      "text/plain": [
       "            high       low    medium  listing_id\n",
       "0       0.046202  0.756425  0.197373     7142618\n",
       "1       0.108210  0.509232  0.382558     7210040\n",
       "100     0.000000  1.000000  0.000000     7103890\n",
       "1000    0.063062  0.635563  0.301375     7143442\n",
       "100000  0.000000  0.822888  0.177112     6860601"
      ]
     },
     "execution_count": 112,
     "metadata": {},
     "output_type": "execute_result"
    }
   ],
   "source": [
    "test_pred_prob_set.head()"
   ]
  },
  {
   "cell_type": "code",
   "execution_count": 121,
   "metadata": {
    "collapsed": false
   },
   "outputs": [
    {
     "data": {
      "text/html": [
       "<div>\n",
       "<table border=\"1\" class=\"dataframe\">\n",
       "  <thead>\n",
       "    <tr style=\"text-align: right;\">\n",
       "      <th></th>\n",
       "      <th>listing_id</th>\n",
       "      <th>high</th>\n",
       "      <th>medium</th>\n",
       "      <th>low</th>\n",
       "    </tr>\n",
       "  </thead>\n",
       "  <tbody>\n",
       "    <tr>\n",
       "      <th>0</th>\n",
       "      <td>7142618</td>\n",
       "      <td>0.046202</td>\n",
       "      <td>0.197373</td>\n",
       "      <td>0.756425</td>\n",
       "    </tr>\n",
       "    <tr>\n",
       "      <th>1</th>\n",
       "      <td>7210040</td>\n",
       "      <td>0.108210</td>\n",
       "      <td>0.382558</td>\n",
       "      <td>0.509232</td>\n",
       "    </tr>\n",
       "    <tr>\n",
       "      <th>100</th>\n",
       "      <td>7103890</td>\n",
       "      <td>0.000000</td>\n",
       "      <td>0.000000</td>\n",
       "      <td>1.000000</td>\n",
       "    </tr>\n",
       "    <tr>\n",
       "      <th>1000</th>\n",
       "      <td>7143442</td>\n",
       "      <td>0.063062</td>\n",
       "      <td>0.301375</td>\n",
       "      <td>0.635563</td>\n",
       "    </tr>\n",
       "    <tr>\n",
       "      <th>100000</th>\n",
       "      <td>6860601</td>\n",
       "      <td>0.000000</td>\n",
       "      <td>0.177112</td>\n",
       "      <td>0.822888</td>\n",
       "    </tr>\n",
       "  </tbody>\n",
       "</table>\n",
       "</div>"
      ],
      "text/plain": [
       "        listing_id      high    medium       low\n",
       "0          7142618  0.046202  0.197373  0.756425\n",
       "1          7210040  0.108210  0.382558  0.509232\n",
       "100        7103890  0.000000  0.000000  1.000000\n",
       "1000       7143442  0.063062  0.301375  0.635563\n",
       "100000     6860601  0.000000  0.177112  0.822888"
      ]
     },
     "execution_count": 121,
     "metadata": {},
     "output_type": "execute_result"
    }
   ],
   "source": [
    "# reorder the columns\n",
    "col_orders = ['listing_id', 'high', 'medium', 'low']\n",
    "test_pred_prob_set = test_pred_prob_set[col_orders]\n",
    "test_pred_prob_set.head()\n"
   ]
  },
  {
   "cell_type": "code",
   "execution_count": 122,
   "metadata": {
    "collapsed": true
   },
   "outputs": [],
   "source": [
    "# write the benchmark model to csv\n",
    "test_pred_prob_set.to_csv(r'..\\data\\benchmark.csv', index = False)\n"
   ]
  },
  {
   "cell_type": "code",
   "execution_count": null,
   "metadata": {
    "collapsed": true
   },
   "outputs": [],
   "source": []
  }
 ],
 "metadata": {
  "kernelspec": {
   "display_name": "Python 3",
   "language": "python",
   "name": "python3"
  },
  "language_info": {
   "codemirror_mode": {
    "name": "ipython",
    "version": 3
   },
   "file_extension": ".py",
   "mimetype": "text/x-python",
   "name": "python",
   "nbconvert_exporter": "python",
   "pygments_lexer": "ipython3",
   "version": "3.5.2"
  }
 },
 "nbformat": 4,
 "nbformat_minor": 0
}
