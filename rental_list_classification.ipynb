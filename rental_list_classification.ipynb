{
 "cells": [
  {
   "cell_type": "markdown",
   "metadata": {},
   "source": [
    "# Rental List Classification"
   ]
  },
  {
   "cell_type": "code",
   "execution_count": 1,
   "metadata": {
    "collapsed": false
   },
   "outputs": [],
   "source": [
    "import pandas as pd\n",
    "import numpy as np\n",
    "from matplotlib import pyplot as plt\n",
    "from ggplot import *\n",
    "import seaborn as sns\n",
    "from colour import Color\n",
    "import re\n",
    "import collections\n",
    "from sklearn.feature_extraction.text import CountVectorizer\n",
    "from sklearn.feature_extraction.text import TfidfVectorizer\n",
    "from bs4 import BeautifulSoup \n",
    "from nltk.stem.snowball import SnowballStemmer\n",
    "%matplotlib inline"
   ]
  },
  {
   "cell_type": "code",
   "execution_count": 2,
   "metadata": {
    "collapsed": false
   },
   "outputs": [
    {
     "name": "stdout",
     "output_type": "stream",
     "text": [
      "Read in training data set with size of 49352 * 15\n",
      "Read in testing data set with size of 74659 * 14\n"
     ]
    }
   ],
   "source": [
    "# read in the training data set\n",
    "train_set = pd.read_json(r'..\\data\\train.json')\n",
    "test_set = pd.read_json(r'..\\data\\test.json')\n",
    "print(\"Read in training data set with size of {} * {}\".format(train_set.shape[0], train_set.shape[1]))\n",
    "print(\"Read in testing data set with size of {} * {}\".format(test_set.shape[0], test_set.shape[1]))"
   ]
  },
  {
   "cell_type": "code",
   "execution_count": 3,
   "metadata": {
    "collapsed": false
   },
   "outputs": [],
   "source": [
    "\n",
    "\n",
    "\n",
    "# seperate the features and the response\n",
    "train_X = train_set.drop('interest_level', axis=1)\n",
    "train_y = train_set['interest_level']\n"
   ]
  },
  {
   "cell_type": "code",
   "execution_count": 4,
   "metadata": {
    "collapsed": false
   },
   "outputs": [
    {
     "data": {
      "text/plain": [
       "Index(['bathrooms', 'bedrooms', 'building_id', 'created', 'description',\n",
       "       'display_address', 'features', 'latitude', 'listing_id', 'longitude',\n",
       "       'manager_id', 'photos', 'price', 'street_address'],\n",
       "      dtype='object')"
      ]
     },
     "execution_count": 4,
     "metadata": {},
     "output_type": "execute_result"
    }
   ],
   "source": [
    "test_set.columns"
   ]
  },
  {
   "cell_type": "code",
   "execution_count": 5,
   "metadata": {
    "collapsed": false,
    "scrolled": true
   },
   "outputs": [
    {
     "data": {
      "text/html": [
       "<div>\n",
       "<table border=\"1\" class=\"dataframe\">\n",
       "  <thead>\n",
       "    <tr style=\"text-align: right;\">\n",
       "      <th></th>\n",
       "      <th>bathrooms</th>\n",
       "      <th>bedrooms</th>\n",
       "      <th>building_id</th>\n",
       "      <th>created</th>\n",
       "      <th>description</th>\n",
       "      <th>display_address</th>\n",
       "      <th>features</th>\n",
       "      <th>interest_level</th>\n",
       "      <th>latitude</th>\n",
       "      <th>listing_id</th>\n",
       "      <th>longitude</th>\n",
       "      <th>manager_id</th>\n",
       "      <th>photos</th>\n",
       "      <th>price</th>\n",
       "      <th>street_address</th>\n",
       "    </tr>\n",
       "  </thead>\n",
       "  <tbody>\n",
       "    <tr>\n",
       "      <th>10</th>\n",
       "      <td>1.5</td>\n",
       "      <td>3</td>\n",
       "      <td>53a5b119ba8f7b61d4e010512e0dfc85</td>\n",
       "      <td>2016-06-24 07:54:24</td>\n",
       "      <td>A Brand New 3 Bedroom 1.5 bath ApartmentEnjoy ...</td>\n",
       "      <td>Metropolitan Avenue</td>\n",
       "      <td>[]</td>\n",
       "      <td>medium</td>\n",
       "      <td>40.7145</td>\n",
       "      <td>7211212</td>\n",
       "      <td>-73.9425</td>\n",
       "      <td>5ba989232d0489da1b5f2c45f6688adc</td>\n",
       "      <td>[https://photos.renthop.com/2/7211212_1ed4542e...</td>\n",
       "      <td>3000</td>\n",
       "      <td>792 Metropolitan Avenue</td>\n",
       "    </tr>\n",
       "    <tr>\n",
       "      <th>10000</th>\n",
       "      <td>1.0</td>\n",
       "      <td>2</td>\n",
       "      <td>c5c8a357cba207596b04d1afd1e4f130</td>\n",
       "      <td>2016-06-12 12:19:27</td>\n",
       "      <td></td>\n",
       "      <td>Columbus Avenue</td>\n",
       "      <td>[Doorman, Elevator, Fitness Center, Cats Allow...</td>\n",
       "      <td>low</td>\n",
       "      <td>40.7947</td>\n",
       "      <td>7150865</td>\n",
       "      <td>-73.9667</td>\n",
       "      <td>7533621a882f71e25173b27e3139d83d</td>\n",
       "      <td>[https://photos.renthop.com/2/7150865_be3306c5...</td>\n",
       "      <td>5465</td>\n",
       "      <td>808 Columbus Avenue</td>\n",
       "    </tr>\n",
       "    <tr>\n",
       "      <th>100004</th>\n",
       "      <td>1.0</td>\n",
       "      <td>1</td>\n",
       "      <td>c3ba40552e2120b0acfc3cb5730bb2aa</td>\n",
       "      <td>2016-04-17 03:26:41</td>\n",
       "      <td>Top Top West Village location, beautiful Pre-w...</td>\n",
       "      <td>W 13 Street</td>\n",
       "      <td>[Laundry In Building, Dishwasher, Hardwood Flo...</td>\n",
       "      <td>high</td>\n",
       "      <td>40.7388</td>\n",
       "      <td>6887163</td>\n",
       "      <td>-74.0018</td>\n",
       "      <td>d9039c43983f6e564b1482b273bd7b01</td>\n",
       "      <td>[https://photos.renthop.com/2/6887163_de85c427...</td>\n",
       "      <td>2850</td>\n",
       "      <td>241 W 13 Street</td>\n",
       "    </tr>\n",
       "    <tr>\n",
       "      <th>100007</th>\n",
       "      <td>1.0</td>\n",
       "      <td>1</td>\n",
       "      <td>28d9ad350afeaab8027513a3e52ac8d5</td>\n",
       "      <td>2016-04-18 02:22:02</td>\n",
       "      <td>Building Amenities - Garage - Garden - fitness...</td>\n",
       "      <td>East 49th Street</td>\n",
       "      <td>[Hardwood Floors, No Fee]</td>\n",
       "      <td>low</td>\n",
       "      <td>40.7539</td>\n",
       "      <td>6888711</td>\n",
       "      <td>-73.9677</td>\n",
       "      <td>1067e078446a7897d2da493d2f741316</td>\n",
       "      <td>[https://photos.renthop.com/2/6888711_6e660cee...</td>\n",
       "      <td>3275</td>\n",
       "      <td>333 East 49th Street</td>\n",
       "    </tr>\n",
       "    <tr>\n",
       "      <th>100013</th>\n",
       "      <td>1.0</td>\n",
       "      <td>4</td>\n",
       "      <td>0</td>\n",
       "      <td>2016-04-28 01:32:41</td>\n",
       "      <td>Beautifully renovated 3 bedroom flex 4 bedroom...</td>\n",
       "      <td>West 143rd Street</td>\n",
       "      <td>[Pre-War]</td>\n",
       "      <td>low</td>\n",
       "      <td>40.8241</td>\n",
       "      <td>6934781</td>\n",
       "      <td>-73.9493</td>\n",
       "      <td>98e13ad4b495b9613cef886d79a6291f</td>\n",
       "      <td>[https://photos.renthop.com/2/6934781_1fa4b41a...</td>\n",
       "      <td>3350</td>\n",
       "      <td>500 West 143rd Street</td>\n",
       "    </tr>\n",
       "  </tbody>\n",
       "</table>\n",
       "</div>"
      ],
      "text/plain": [
       "        bathrooms  bedrooms                       building_id  \\\n",
       "10            1.5         3  53a5b119ba8f7b61d4e010512e0dfc85   \n",
       "10000         1.0         2  c5c8a357cba207596b04d1afd1e4f130   \n",
       "100004        1.0         1  c3ba40552e2120b0acfc3cb5730bb2aa   \n",
       "100007        1.0         1  28d9ad350afeaab8027513a3e52ac8d5   \n",
       "100013        1.0         4                                 0   \n",
       "\n",
       "                    created  \\\n",
       "10      2016-06-24 07:54:24   \n",
       "10000   2016-06-12 12:19:27   \n",
       "100004  2016-04-17 03:26:41   \n",
       "100007  2016-04-18 02:22:02   \n",
       "100013  2016-04-28 01:32:41   \n",
       "\n",
       "                                              description  \\\n",
       "10      A Brand New 3 Bedroom 1.5 bath ApartmentEnjoy ...   \n",
       "10000                                                       \n",
       "100004  Top Top West Village location, beautiful Pre-w...   \n",
       "100007  Building Amenities - Garage - Garden - fitness...   \n",
       "100013  Beautifully renovated 3 bedroom flex 4 bedroom...   \n",
       "\n",
       "            display_address  \\\n",
       "10      Metropolitan Avenue   \n",
       "10000       Columbus Avenue   \n",
       "100004          W 13 Street   \n",
       "100007     East 49th Street   \n",
       "100013    West 143rd Street   \n",
       "\n",
       "                                                 features interest_level  \\\n",
       "10                                                     []         medium   \n",
       "10000   [Doorman, Elevator, Fitness Center, Cats Allow...            low   \n",
       "100004  [Laundry In Building, Dishwasher, Hardwood Flo...           high   \n",
       "100007                          [Hardwood Floors, No Fee]            low   \n",
       "100013                                          [Pre-War]            low   \n",
       "\n",
       "        latitude  listing_id  longitude                        manager_id  \\\n",
       "10       40.7145     7211212   -73.9425  5ba989232d0489da1b5f2c45f6688adc   \n",
       "10000    40.7947     7150865   -73.9667  7533621a882f71e25173b27e3139d83d   \n",
       "100004   40.7388     6887163   -74.0018  d9039c43983f6e564b1482b273bd7b01   \n",
       "100007   40.7539     6888711   -73.9677  1067e078446a7897d2da493d2f741316   \n",
       "100013   40.8241     6934781   -73.9493  98e13ad4b495b9613cef886d79a6291f   \n",
       "\n",
       "                                                   photos  price  \\\n",
       "10      [https://photos.renthop.com/2/7211212_1ed4542e...   3000   \n",
       "10000   [https://photos.renthop.com/2/7150865_be3306c5...   5465   \n",
       "100004  [https://photos.renthop.com/2/6887163_de85c427...   2850   \n",
       "100007  [https://photos.renthop.com/2/6888711_6e660cee...   3275   \n",
       "100013  [https://photos.renthop.com/2/6934781_1fa4b41a...   3350   \n",
       "\n",
       "                 street_address  \n",
       "10      792 Metropolitan Avenue  \n",
       "10000       808 Columbus Avenue  \n",
       "100004          241 W 13 Street  \n",
       "100007     333 East 49th Street  \n",
       "100013    500 West 143rd Street  "
      ]
     },
     "execution_count": 5,
     "metadata": {},
     "output_type": "execute_result"
    }
   ],
   "source": [
    "train_set.head()"
   ]
  },
  {
   "cell_type": "markdown",
   "metadata": {},
   "source": [
    "## Data explorary analysis"
   ]
  },
  {
   "cell_type": "code",
   "execution_count": 6,
   "metadata": {
    "collapsed": false
   },
   "outputs": [
    {
     "name": "stdout",
     "output_type": "stream",
     "text": [
      "low       34284\n",
      "medium    11229\n",
      "high       3839\n",
      "Name: interest_level, dtype: int64\n"
     ]
    },
    {
     "data": {
      "image/png": "[encoded data removed]",
      "text/plain": [
       "<matplotlib.figure.Figure at 0x19f25c7c780>"
      ]
     },
     "metadata": {},
     "output_type": "display_data"
    }
   ],
   "source": [
    "# Response var: interest_level\n",
    "interest_level_count = train_set['interest_level'].value_counts()\n",
    "print(interest_level_count)\n",
    "\n",
    "# creaate gradient color bar for interest levels\n",
    "red = Color(\"black\")\n",
    "level_c = list(red.range_to(Color(\"red\"),len(interest_level_count)))\n",
    "\n",
    "\n",
    "\n",
    "ax = plt.subplot(1, 1, 1)\n",
    "for i in range(len(interest_level_count)): \n",
    "    ax.bar(0.2, interest_level_count[i], width=0.1, bottom=sum(interest_level_count[0:i]), label=interest_level_count.index[i], \n",
    "           color = level_c[i].rgb)\n",
    "           \n",
    "ax.set(xlim=(0, 0.5), xticks=(), title='Bar Plot of Interest Level', ylabel='Frequency')\n",
    "plt.legend()\n",
    "plt.show()\n"
   ]
  },
  {
   "cell_type": "code",
   "execution_count": 7,
   "metadata": {
    "collapsed": false
   },
   "outputs": [
    {
     "name": "stdout",
     "output_type": "stream",
     "text": [
      "Descriptive stats of bb_ratio: \n",
      "\n",
      "count    49352.000000\n",
      "mean         1.262346\n",
      "std          0.874721\n",
      "min          0.000000\n",
      "25%          1.000000\n",
      "50%          1.000000\n",
      "75%          2.000000\n",
      "max          6.000000\n",
      "dtype: float64\n"
     ]
    },
    {
     "data": {
      "image/png": "[encoded data removed]",
      "text/plain": [
       "<matplotlib.figure.Figure at 0x19f25c7c5f8>"
      ]
     },
     "metadata": {},
     "output_type": "display_data"
    }
   ],
   "source": [
    "# Number of bedrooms, bathrooms\n",
    "# create a new var: bathroom-bedroom ratio\n",
    "# for those do not have a bedroom, assume they are studio and set the number of bedrooms to 1\n",
    "bb_ratio = train_set['bedrooms'] / train_set['bathrooms'].apply(lambda x: x if x != 0 else 1)\n",
    "print(\"Descriptive stats of bb_ratio: \\n\")\n",
    "print(bb_ratio.describe())\n",
    "\n",
    "\n",
    "\n",
    "for room in ('bathrooms', 'bedrooms'):\n",
    "    ax = plt.subplot(1, 2, 1)\n",
    "    train_set[room].hist(alpha=0.7, label=room)\n",
    "ax.set(xlabel='Number of rooms', ylabel='Frequenncy')\n",
    "ax.legend(loc=1)\n",
    "\n",
    "ax = plt.subplot(1, 2, 2)\n",
    "ax.hist(bb_ratio, color='orange', alpha=0.7)\n",
    "ax.set(xlabel='Bathroom-Bedroom Radio', ylabel='Frequency')\n",
    "plt.show()\n"
   ]
  },
  {
   "cell_type": "code",
   "execution_count": 8,
   "metadata": {
    "collapsed": false
   },
   "outputs": [
    {
     "data": {
      "image/png": "[encoded data removed]",
      "text/plain": [
       "<matplotlib.figure.Figure at 0x19f25c7cc18>"
      ]
     },
     "metadata": {},
     "output_type": "display_data"
    }
   ],
   "source": [
    "# Boxplots of number of bedroom, bathrooms and bb_ratio faceted by interest level\n",
    "ax = plt.subplot(1, 3, 1)\n",
    "sns.boxplot(x='interest_level', y='bedrooms', data=train_set, ax=ax, order=('low', 'medium', 'high'))\n",
    "ax = plt.subplot(1, 3, 2)\n",
    "sns.boxplot(x='interest_level', y='bathrooms', data=train_set, ax=ax, order=('low', 'medium', 'high'))\n",
    "ax = plt.subplot(1, 3, 3)\n",
    "sns.boxplot(x=train_set['interest_level'], y=bb_ratio, ax=ax,order=('low', 'medium', 'high'))\n",
    "plt.show()\n"
   ]
  },
  {
   "cell_type": "code",
   "execution_count": 9,
   "metadata": {
    "collapsed": false
   },
   "outputs": [
    {
     "name": "stdout",
     "output_type": "stream",
     "text": [
      "Stats of the vars: longitude, latitude:\n",
      "          longitude      latitude\n",
      "count  49352.000000  49352.000000\n",
      "mean     -73.955716     40.741545\n",
      "std        1.177912      0.638535\n",
      "min     -118.271000      0.000000\n",
      "25%      -73.991700     40.728300\n",
      "50%      -73.977900     40.751800\n",
      "75%      -73.954800     40.774300\n",
      "max        0.000000     44.883500\n",
      "\n",
      "Stats of latitude when longitude = 0:\n",
      "count    12\n",
      "mean      0\n",
      "std       0\n",
      "min       0\n",
      "25%       0\n",
      "50%       0\n",
      "75%       0\n",
      "max       0\n",
      "Name: latitude, dtype: float64\n",
      "\n",
      "inteset levels when longitude = 0:\n",
      "low       11\n",
      "medium     1\n",
      "Name: interest_level, dtype: int64\n"
     ]
    }
   ],
   "source": [
    "# longitute and latitude\n",
    "print('Stats of the vars: longitude, latitude:')\n",
    "print(train_set[['longitude', 'latitude']].describe())\n",
    "\n",
    "# find potential outliers with longitude = 0\n",
    "print('\\nStats of latitude when longitude = 0:')\n",
    "print(train_set[train_set['longitude']==0]['latitude'].describe())\n",
    "print('\\ninteset levels when longitude = 0:')\n",
    "print(train_set[train_set['longitude']==0]['interest_level'].value_counts())\n",
    "\n"
   ]
  },
  {
   "cell_type": "code",
   "execution_count": 10,
   "metadata": {
    "collapsed": false,
    "scrolled": true
   },
   "outputs": [
    {
     "data": {
      "image/png": "[encoded data removed]",
      "text/plain": [
       "<matplotlib.figure.Figure at 0x19f2719dd30>"
      ]
     },
     "metadata": {},
     "output_type": "display_data"
    },
    {
     "name": "stdout",
     "output_type": "stream",
     "text": [
      "<ggplot: (111440319864)>\n"
     ]
    },
    {
     "data": {
      "image/png": "[encoded data removed]",
      "text/plain": [
       "<matplotlib.figure.Figure at 0x19f28880be0>"
      ]
     },
     "metadata": {},
     "output_type": "display_data"
    },
    {
     "name": "stdout",
     "output_type": "stream",
     "text": [
      "<ggplot: (-9223371925413061127)>\n"
     ]
    }
   ],
   "source": [
    "def zoomin_ll(data, condition):\n",
    "    g = ggplot(data[condition], aes(x='longitude', y='latitude', color='interest_level')) + \\\n",
    "        geom_jitter(alpha=0.6)\n",
    "    return g\n",
    "\n",
    "\n",
    "\n",
    "# Let's zoom in (remove longitude = 0)\n",
    "cond1 = train_set['longitude'] != 0\n",
    "g1 = zoomin_ll(train_set, cond1)\n",
    "\n",
    "# let's furthur zoom in (longtitude: 40~42, latitude: -80~-70)\n",
    "cond2 = (train_set['latitude']<=42) & (train_set['latitude']>=40) & (train_set['longitude']>=-80) & (train_set['longitude']<=-70)\n",
    "g2 = zoomin_ll(train_set, cond2)\n",
    "\n",
    "print(g1)\n",
    "print(g2)\n",
    "\n"
   ]
  },
  {
   "cell_type": "code",
   "execution_count": 11,
   "metadata": {
    "collapsed": false
   },
   "outputs": [
    {
     "name": "stdout",
     "output_type": "stream",
     "text": [
      "Stats of Price:\n",
      "count      49352.000000\n",
      "mean        3830.174036\n",
      "std        22066.865885\n",
      "min           43.000000\n",
      "25%         2500.000000\n",
      "50%         3150.000000\n",
      "75%         4100.000000\n",
      "max      4490000.000000\n",
      "Name: price, dtype: float64\n",
      "\n",
      "The 10 cheapest prices are:\n",
      "[43, 45, 401, 695, 695, 695, 695, 700, 800, 868]\n",
      "\n",
      "The 10 most expensive prices are:\n",
      "[4490000, 1150000, 1070000, 1070000, 135000, 111111, 100000, 90000, 85000, 80000]\n"
     ]
    }
   ],
   "source": [
    "# price\n",
    "print('Stats of Price:')\n",
    "print(train_set['price'].describe())\n",
    "print('\\nThe 10 cheapest prices are:')\n",
    "print(sorted(train_set['price'])[:10])\n",
    "print('\\nThe 10 most expensive prices are:')\n",
    "print(sorted(train_set['price'], reverse=True)[:10])\n",
    "\n"
   ]
  },
  {
   "cell_type": "code",
   "execution_count": 12,
   "metadata": {
    "collapsed": false
   },
   "outputs": [
    {
     "name": "stdout",
     "output_type": "stream",
     "text": [
      "There are 2 low outliers and 2786 high outliers\n",
      "low    2\n",
      "Name: interest_level, dtype: int64\n",
      "low       2572\n",
      "medium     193\n",
      "high        21\n",
      "Name: interest_level, dtype: int64\n"
     ]
    }
   ],
   "source": [
    "# use the Tukey Method to identify potential outliers in price\n",
    "def turkey_outlier(data, var, alpha, outlier=True):\n",
    "    q1 = np.percentile(data[var], 25)\n",
    "    q3 = np.percentile(data[var], 75)\n",
    "    if outlier:\n",
    "        return data[(data[var] < (q1-alpha*(q3-q1)))], data[(data[var] > q3+alpha*(q3-q1))]\n",
    "    else:\n",
    "        return data[(data[var] >= (q1-alpha*(q3-q1))) & (data[var] <= q3+alpha*(q3-q1))]\n",
    "price_lowoutliers, price_highoutliers = turkey_outlier(train_set, 'price', 1.5, True) # 2788 potential outliers\n",
    "price_noout = turkey_outlier(train_set, 'price', 1.5, False)\n",
    "print('There are {} low outliers and {} high outliers'.format(len(price_lowoutliers), len(price_highoutliers)))\n",
    "\n",
    "print(price_lowoutliers['interest_level'].value_counts())\n",
    "print(price_highoutliers['interest_level'].value_counts())"
   ]
  },
  {
   "cell_type": "code",
   "execution_count": 13,
   "metadata": {
    "collapsed": false
   },
   "outputs": [
    {
     "data": {
      "image/png": "[encoded data removed]",
      "text/plain": [
       "<matplotlib.figure.Figure at 0x19f26477780>"
      ]
     },
     "metadata": {},
     "output_type": "display_data"
    }
   ],
   "source": [
    "# hist of original price, outlier removed price and log(price)\n",
    "ax = plt.subplot(1, 3, 1)\n",
    "train_set['price'].hist()\n",
    "ax.set(title='Original Price')\n",
    "ax = plt.subplot(1, 3, 2)\n",
    "price_noout['price'].hist()\n",
    "ax.set(title='Outlier Removed Price')\n",
    "ax = plt.subplot(1, 3, 3)\n",
    "np.log(train_set['price']).hist()\n",
    "ax.set(title='Log(Price)')\n",
    "plt.show()\n"
   ]
  },
  {
   "cell_type": "code",
   "execution_count": 14,
   "metadata": {
    "collapsed": false
   },
   "outputs": [
    {
     "data": {
      "image/png": "[encoded data removed]",
      "text/plain": [
       "<matplotlib.figure.Figure at 0x19f2844fda0>"
      ]
     },
     "metadata": {},
     "output_type": "display_data"
    }
   ],
   "source": [
    "# price vs interest level\n",
    "ax = plt.subplot(1, 3, 1)\n",
    "sns.boxplot(x='interest_level', y='price', data=train_set, order=('low', 'medium', 'high'))\n",
    "ax.set(title='Price vs Interest Level')\n",
    "ax = plt.subplot(1, 3, 2)\n",
    "sns.boxplot(x='interest_level', y='price', data=price_noout, order=('low', 'medium', 'high'))\n",
    "ax.set(title='Outlier-Removed Price vs Interest Level')\n",
    "ax = plt.subplot(1, 3, 3)\n",
    "sns.boxplot(x=train_set['interest_level'], y=np.log(train_set['price']), order=('low', 'medium', 'high'))\n",
    "ax.set(title='log(Price) vs Interest Level')\n",
    "plt.show()"
   ]
  },
  {
   "cell_type": "code",
   "execution_count": 15,
   "metadata": {
    "collapsed": false
   },
   "outputs": [
    {
     "data": {
      "image/png": "[encoded data removed]",
      "text/plain": [
       "<matplotlib.figure.Figure at 0x19f26db6208>"
      ]
     },
     "metadata": {},
     "output_type": "display_data"
    }
   ],
   "source": [
    "# price_bedroom ratio\n",
    "price_bedroom_ratio = train_set['price']/train_set['bedrooms'].apply(lambda x: x if x !=0 else 1)\n",
    "ax = plt.subplot(1, 1, 1)\n",
    "sns.boxplot(x=train_set['interest_level'], y=np.log(price_bedroom_ratio), order=('low', 'medium', 'high'))\n",
    "ax.set(title='log(Price-bedroom ratio) vs Interest Level')\n",
    "plt.show()"
   ]
  },
  {
   "cell_type": "code",
   "execution_count": 16,
   "metadata": {
    "collapsed": false
   },
   "outputs": [
    {
     "name": "stdout",
     "output_type": "stream",
     "text": [
      "Stats of number of features:\n",
      "count    49352.000000\n",
      "mean         5.428473\n",
      "std          3.923411\n",
      "min          0.000000\n",
      "25%          2.000000\n",
      "50%          5.000000\n",
      "75%          8.000000\n",
      "max         39.000000\n",
      "Name: features, dtype: float64\n",
      "\n",
      "Longest Features:\n",
      "[['Common Outdoor Space', 'Laundry In Unit', 'Cats Allowed', 'Private Outdoor Space', 'Dogs Allowed', 'Parking Space', 'Doorman', 'Elevator', 'Fitness Center', 'Laundry In Building', 'Concierge', 'Garage', 'Green Building', 'Health Club', 'High Speed Internet', 'Laundry', 'Lounge', 'New Construction', 'Roof Deck', 'Storage', 'Subway', 'Valet', 'Wheelchair Access', 'WiFi', 'Balcony', 'Dishwasher', 'Eat In Kitchen', 'Garden', 'Granite Kitchen', 'Hardwood', 'High Ceilings', 'Light', 'Live Work', 'Marble Bath', 'Outdoor Space', 'Patio', 'Renovated', 'Walk-In Closet', 'Walls OK']]\n"
     ]
    }
   ],
   "source": [
    "# features\n",
    "# number of features\n",
    "num_features = train_set['features'].apply(len)\n",
    "print('Stats of number of features:')\n",
    "print(num_features.describe())\n",
    "\n",
    "print('\\nLongest Features:')\n",
    "print(list(train_set['features'][train_set['features'].apply(len) == max(train_set['features'].apply(len))]))\n"
   ]
  },
  {
   "cell_type": "code",
   "execution_count": 17,
   "metadata": {
    "collapsed": false
   },
   "outputs": [
    {
     "data": {
      "image/png": "[encoded data removed]",
      "text/plain": [
       "<matplotlib.figure.Figure at 0x19f25b66ac8>"
      ]
     },
     "metadata": {},
     "output_type": "display_data"
    }
   ],
   "source": [
    "# let's look at those with 0 features\n",
    "feature0_counts = train_set[train_set['features'].apply(len)==0]['interest_level'].value_counts()\n",
    "\n",
    "\n",
    "ax1 = plt.subplot(1, 2, 1)\n",
    "ax1.pie(interest_level_count, labels=interest_level_count.index, startangle=90, autopct='%1.1f%%', shadow=True)\n",
    "ax1.set(title='All data')\n",
    "\n",
    "ax2 = plt.subplot(1, 2, 2)\n",
    "ax2.pie(feature0_counts, labels=feature0_counts.index, startangle=90, autopct='%1.1f%%', shadow=True)\n",
    "ax2.set(title='Feature = 0')\n",
    "plt.show()"
   ]
  },
  {
   "cell_type": "code",
   "execution_count": 18,
   "metadata": {
    "collapsed": false
   },
   "outputs": [
    {
     "name": "stdout",
     "output_type": "stream",
     "text": [
      "1556\n"
     ]
    },
    {
     "data": {
      "text/plain": [
       "['Breakfast Bar',\n",
       " 'Post War',\n",
       " 'Poo',\n",
       " 'AC Central',\n",
       " 'open views',\n",
       " 'Resident Super in the building',\n",
       " '** SPRAWLING SUNFILLED 1BR HOME * UNIQUE PREWAR DETAILS * GOURMET KITCHEN * HEART OF MIDTOWN! **',\n",
       " 'duplex',\n",
       " 'One month free',\n",
       " 'Balconies in both bedrooms']"
      ]
     },
     "execution_count": 18,
     "metadata": {},
     "output_type": "execute_result"
    }
   ],
   "source": [
    "# unique features\n",
    "uniq_feat = set()\n",
    "for f in train_set['features']:\n",
    "    uniq_feat = uniq_feat.union(set(f))\n",
    "print(len(uniq_feat))\n",
    "list(uniq_feat)[:10]"
   ]
  },
  {
   "cell_type": "code",
   "execution_count": 19,
   "metadata": {
    "collapsed": false
   },
   "outputs": [
    {
     "data": {
      "text/plain": [
       "[['** HEART OF THE VILLAGE! * MASSIVE 3BR SUPER SHARE * MR CLEAN APPROVED * ORNATE PREWAR DETAILS * GOURMET KITCHEN * TONS OF SUNLIGHT **'],\n",
       " ['** COURT SQUARE GEM! * SPRAWLING SUNDRENCHED 2BR HOME * CUSTOM FINISHES * DISHWASHER * FIREPLACES * EAT-IN KITCHEN * BAY WINDOWS **'],\n",
       " ['** ELEGANT E50s!! * SPRAWLING SUNDRENCHED 2BR HOME * FRENCH DRS * BREAKFAST BAR * DISHWASHER * EAT-IN KITCHEN * WALK-IN CLOSETS! **'],\n",
       " ['** THE PERFECT SHARE! * HUGE TRUE 3BR HOME * GOURMET KITCHEN * TONS OF NATURAL LIGHT * 2 BLKS TO WATERFRONT & BEDFORD L STOP **'],\n",
       " ['** SPRAWLING TRUE 3BR SUPER SHARE * FIT FOR KINGS! * UNIQUE RENOVATIONS * STEPS TO THE WATERFRONT * 1 BLK TO BEDFORD L STOP **'],\n",
       " ['** BROWNSTONE BEAUTY * MASSIVE 2BR HOME * STEPS TO THE PARK * SS KITCHEN * DISHWASHER * OVERSIZED CLOSETS * NEAR COLUMBIA U **'],\n",
       " ['** OVERSIZED & UNDERPRICED!! * SPRAWLING SUNFILLED STUDIO * GOURMET KITCHEN * GUT RENOVATED * W50s ~ NEAR CENTRAL PARK! **'],\n",
       " ['** W70s WINNER! * SUPER SWEET STUDIO * WALLS OF WINDOWS * HI END RENOVATIONS * OVERSIZED CLOSETS * STEPS TO THE PARK! **'],\n",
       " ['** THE PERFECT SHARE * SPRAWLING 3BR HOME * HI END RENOVATIONS * MR CLEAN APPROVED * ROOMY CLOSETS * G-VILLAGE BABY! **'],\n",
       " [\"** HUGE TRUE 3BR SUPER SHARE * STUNNING RENOVATIONS * WALLS OF WINDOWS * COOK'S KITCHEN * GORGEOUS GREENWICH VILLAGE **\"]]"
      ]
     },
     "execution_count": 19,
     "metadata": {},
     "output_type": "execute_result"
    }
   ],
   "source": [
    "# 1 feature\n",
    "feature1 = train_set[train_set['features'].apply(len)==1]['features']\n",
    "sorted(feature1, key=lambda x: len(x[0]), reverse=True)[:10]\n"
   ]
  },
  {
   "cell_type": "code",
   "execution_count": 20,
   "metadata": {
    "collapsed": false
   },
   "outputs": [],
   "source": [
    "def feature_clean(feature_list):\n",
    "    # some features are separated by '*' '.', '^' clean those features\n",
    "    for ff in feature_list: \n",
    "        if any(x in ff for x in ('*', '.', '^')):\n",
    "            feature_list.remove(ff)\n",
    "            ff = re.sub('[*|^|.]+', ',', ff)\n",
    "            # remove the ',' at the beginning and at the end of the string\n",
    "            ff = re.sub('^[,]|[,]$', '', ff)\n",
    "            feature_list += ff.split(',')\n",
    "    # clean the text, strip and lower case\n",
    "    return [f.strip().lower() for f in feature_list]\n",
    "\n",
    "feature = train_set['features'].apply(feature_clean)"
   ]
  },
  {
   "cell_type": "code",
   "execution_count": 21,
   "metadata": {
    "collapsed": false
   },
   "outputs": [
    {
     "data": {
      "text/plain": [
       "[['offering  1 month free or 1 month op'],\n",
       " ['absolute value for size & location'],\n",
       " ['parking spot with additional fee'],\n",
       " ['wood-burning fireplace'],\n",
       " ['private outdoor space'],\n",
       " ['private outdoor space'],\n",
       " ['private outdoor space'],\n",
       " ['private outdoor space'],\n",
       " ['private outdoor space'],\n",
       " ['private outdoor space']]"
      ]
     },
     "execution_count": 21,
     "metadata": {},
     "output_type": "execute_result"
    }
   ],
   "source": [
    "feature.head()\n",
    "feature11 = feature[feature.apply(len)==1]\n",
    "sorted(feature11, key=lambda x: len(x[0]), reverse=True)[:10]\n"
   ]
  },
  {
   "cell_type": "code",
   "execution_count": 22,
   "metadata": {
    "collapsed": false
   },
   "outputs": [],
   "source": [
    "train_set['features'] = feature\n"
   ]
  },
  {
   "cell_type": "code",
   "execution_count": 23,
   "metadata": {
    "collapsed": false
   },
   "outputs": [
    {
     "name": "stdout",
     "output_type": "stream",
     "text": [
      "1464\n"
     ]
    },
    {
     "data": {
      "text/plain": [
       "['health club & indoor swimming pool',\n",
       " 'dining room',\n",
       " 'third floor walk up',\n",
       " 'nearby m & r trains',\n",
       " 'duplex',\n",
       " 'spacious',\n",
       " 'separate kitchen',\n",
       " 'working fireplace',\n",
       " '24th st & 3rd ave',\n",
       " 'garage parking!']"
      ]
     },
     "execution_count": 23,
     "metadata": {},
     "output_type": "execute_result"
    }
   ],
   "source": [
    "# All features\n",
    "def get_features(feat):\n",
    "    feature_list = []\n",
    "    for f in feat:\n",
    "        if f != []:\n",
    "            feature_list += f\n",
    "    return feature_list\n",
    "\n",
    "\n",
    "feat = get_features(train_set['features'])\n",
    "\n",
    "\n",
    "uniq_feat = set(feat)\n",
    "print(len(uniq_feat))\n",
    "list(uniq_feat)[:10]\n",
    "\n",
    "#number of unique features from 1556 to 1464"
   ]
  },
  {
   "cell_type": "code",
   "execution_count": 24,
   "metadata": {
    "collapsed": false
   },
   "outputs": [
    {
     "name": "stdout",
     "output_type": "stream",
     "text": [
      "[('elevator', 0.09780840378680426), ('hardwood floors', 0.0877010762535506), ('cats allowed', 0.08763406634725278), ('dogs allowed', 0.08203129362624108), ('doorman', 0.07806654083695373), ('dishwasher', 0.07750812495113861), ('laundry in building', 0.07052420360587751), ('no fee', 0.06731889642129872), ('fitness center', 0.04935651876091238), ('laundry in unit', 0.035124359217771024)]\n"
     ]
    }
   ],
   "source": [
    "# feature frequency\n",
    "def feat_freq(feat, n_feat=10, pect=True):\n",
    "    '''Find feature frequency'''\n",
    "    feature_list = get_features(feat)  \n",
    "    feat_counts = collections.Counter(feature_list)\n",
    "    if pect == True:\n",
    "        num_feat = len(feature_list)\n",
    "        for k, v in feat_counts.items():\n",
    "            feat_counts[k] = v/num_feat            \n",
    "    return sorted(feat_counts.items(), key = lambda x: x[1], reverse=True)[:n_feat]\n",
    "\n",
    "feat_freq_all = feat_freq(train_set['features'])\n",
    "feat_freq_l = feat_freq(train_set[train_set['interest_level']=='low']['features'])\n",
    "feat_freq_m = feat_freq(train_set[train_set['interest_level']=='medium']['features'])\n",
    "feat_freq_h = feat_freq(train_set[train_set['interest_level']=='high']['features'])\n",
    "print(feat_freq_all)\n"
   ]
  },
  {
   "cell_type": "code",
   "execution_count": 25,
   "metadata": {
    "collapsed": false
   },
   "outputs": [
    {
     "data": {
      "image/png": "[encoded data removed]",
      "text/plain": [
       "<matplotlib.figure.Figure at 0x19f2ea9cf60>"
      ]
     },
     "metadata": {},
     "output_type": "display_data"
    }
   ],
   "source": [
    "# plot the feature frequency\n",
    "def plot_feat(feat_counts, ax, xtick, color):\n",
    "    n_feat = len(feat_counts)\n",
    "    ylim = np.linspace(n_feat*5, 5, n_feat)\n",
    "    for i, (f, c) in enumerate(feat_counts):  \n",
    "        ax.plot(xtick, ylim[i], 'g')\n",
    "        ax.text(xtick, ylim[i], f, size=c*150, color=color)\n",
    "    return ax\n",
    "\n",
    "xtick_pos = (0, 20, 40, 60)\n",
    "colors = ('black', 'blue', 'green', 'red')\n",
    "\n",
    "ax = plt.subplot(1, 1, 1)\n",
    "plot_feat(feat_freq_all, ax, xtick_pos[0], colors[0])\n",
    "plot_feat(feat_freq_h, ax, xtick_pos[1], colors[1])\n",
    "plot_feat(feat_freq_m, ax, xtick_pos[2], colors[2])\n",
    "plot_feat(feat_freq_l, ax, xtick_pos[3], colors[3])\n",
    "\n",
    "ax.grid(False)\n",
    "ax.patch.set_facecolor('white')\n",
    "ax.set_xticks(np.array(xtick_pos)+2)\n",
    "ax.set_xticklabels(('ALL', 'LOW', 'Medium', 'HIGH'))\n",
    "ax.yaxis.set_visible(False)\n",
    "plt.show()\n",
    "\n",
    "# we can see that the top words seem to be similar\n",
    "\n"
   ]
  },
  {
   "cell_type": "code",
   "execution_count": 26,
   "metadata": {
    "collapsed": false
   },
   "outputs": [
    {
     "name": "stdout",
     "output_type": "stream",
     "text": [
      "<class 'pandas.core.series.Series'>\n",
      "Description Example: \n",
      "A Brand New 3 Bedroom 1.5 bath ApartmentEnjoy These Following Apartment Features As You Rent Here? Modern Designed Bathroom w/ a Deep Spa Soaking Tub? Room to Room AC/Heat? Real Oak Hardwood Floors? Rain Forest Shower Head? SS steel Appliances w/ Chef Gas Cook Oven & LG Fridge? washer /dryer in the apt? Cable Internet Ready? Granite Counter Top Kitchen w/ lot of cabinet storage spaceIt's Just A Few blocks To L Train<br /><br />Don't miss out!<br /><br />We have several great apartments in the immediate area.<br /><br />For additional information 687-878-2229<p><a  website_redacted \n",
      "\n",
      "The longest description:\n",
      "Top Top West Village location, beautiful Pre-war building with laundry in the basement and live in super!<br/><br/>Apartment features a large bedroom with closet. Separate living room, kitchen features granite tops, dishwasher and microwave included, marble bathroom and hardwood flooring. Building is very well maintained and conveniently located near A,C,E,L,1,2,3 trains. Surrounded by many local cafe?s, restaurants, available for November 1st move in!<br/><br/>To view this apartment or any other please contact me via email or call at the number listed.<br/><br/><br/><br/><br/><br/>Bond New York is a real estate broker that supports equal housing opportunity.<p><a  website_redacted \n"
     ]
    }
   ],
   "source": [
    "# description\n",
    "description = train_set['description'].iloc[0:3]\n",
    "print(type(description))\n",
    "\n",
    "# print some descriptions\n",
    "print('Description Example: ')\n",
    "print(description.iloc[0])\n",
    "\n",
    "print('\\nThe longest description:')\n",
    "print(description[description.apply(len)==max(description.apply(len))].iloc[0])\n",
    "\n",
    "\n"
   ]
  },
  {
   "cell_type": "code",
   "execution_count": 27,
   "metadata": {
    "collapsed": false
   },
   "outputs": [
    {
     "name": "stdout",
     "output_type": "stream",
     "text": [
      "[[ 2  1  1  1  6  3  1  1  1  1  1  1  2  1]\n",
      " [ 0  0  0  0  0  0  0  0  0  0  0  0  0  0]\n",
      " [ 2  1  1  1 10  7  2  1  1  1  1  1  1  1]]\n",
      "['apart', 'apart featur', 'bathroom', 'bedroom', 'br', 'br br', 'featur', 'granit', 'hardwood', 'kitchen', 'new', 'real', 'room', 'website_redact']\n"
     ]
    }
   ],
   "source": [
    "# define a stemmer\n",
    "stemmer = SnowballStemmer(\"english\")\n",
    "\n",
    "\n",
    "# preprocessor function\n",
    "def preprocessor(text, stemmer):\n",
    "    # remove numbers\n",
    "    text = re.sub('[0-9]*', '', text)\n",
    "    # lowercase\n",
    "    # text = text.lower()\n",
    "    # lowecase is included in the stem process\n",
    "    \n",
    "    # other preprocessing, such as remove HTML tags, strip    \n",
    "    # also needs to steam\n",
    "    text = ' '.join([stemmer.stem(x) for x in text.split()])\n",
    "    return text\n",
    "\n",
    "\n",
    "des_try = train_set.iloc[0:3]['description']\n",
    "\n",
    "cv_vectorizer = CountVectorizer(min_df=2, stop_words='english', ngram_range=(1, 2), preprocessor=lambda p: preprocessor(p, stemmer=stemmer))\n",
    "descrip_cv = cv_vectorizer.fit_transform(des_try)\n",
    "descrip_cv = descrip_cv.toarray()\n",
    "print(descrip_cv)\n",
    "print(cv_vectorizer.get_feature_names())\n",
    "\n"
   ]
  },
  {
   "cell_type": "code",
   "execution_count": 28,
   "metadata": {
    "collapsed": false
   },
   "outputs": [
    {
     "name": "stdout",
     "output_type": "stream",
     "text": [
      "[[ 0.25197632  0.12598816  0.12598816  0.12598816  0.75592895  0.37796447\n",
      "   0.12598816  0.12598816  0.12598816  0.12598816  0.12598816  0.12598816\n",
      "   0.25197632  0.12598816]\n",
      " [ 0.          0.          0.          0.          0.          0.          0.\n",
      "   0.          0.          0.          0.          0.          0.          0.        ]\n",
      " [ 0.15476465  0.07738232  0.07738232  0.07738232  0.77382323  0.54167626\n",
      "   0.15476465  0.07738232  0.07738232  0.07738232  0.07738232  0.07738232\n",
      "   0.07738232  0.07738232]]\n",
      "['apart', 'apart featur', 'bathroom', 'bedroom', 'br', 'br br', 'featur', 'granit', 'hardwood', 'kitchen', 'new', 'real', 'room', 'website_redact']\n"
     ]
    }
   ],
   "source": [
    "# reference: http://www.akbarian.org/notes/text-mining-nlp-python/\n",
    "# TF-IDF\n",
    "tf_vectorizer = TfidfVectorizer(min_df=2, stop_words='english', ngram_range=(1, 2), preprocessor=lambda p: preprocessor(p, stemmer=stemmer))\n",
    "\n",
    "descrip_tf = tf_vectorizer.fit_transform(des_try)\n",
    "\n",
    "descrip_tf = descrip_tf.toarray()\n",
    "print(descrip_tf)\n",
    "print(tf_vectorizer.get_feature_names())\n",
    "\n",
    "\n"
   ]
  },
  {
   "cell_type": "code",
   "execution_count": 29,
   "metadata": {
    "collapsed": false
   },
   "outputs": [
    {
     "name": "stdout",
     "output_type": "stream",
     "text": [
      "count    49352.000000\n",
      "mean         5.606946\n",
      "std          3.632283\n",
      "min          0.000000\n",
      "25%          4.000000\n",
      "50%          5.000000\n",
      "75%          7.000000\n",
      "max         68.000000\n",
      "Name: photos, dtype: float64\n"
     ]
    },
    {
     "data": {
      "image/png": "[encoded data removed]",
      "text/plain": [
       "<matplotlib.figure.Figure at 0x19f2e9de080>"
      ]
     },
     "metadata": {},
     "output_type": "display_data"
    }
   ],
   "source": [
    "# photo: a list of \n",
    "photo_count = train_set['photos'].apply(len)\n",
    "\n",
    "print(photo_count.describe())\n",
    "\n",
    "\n",
    "sns.boxplot(x=train_set['interest_level'], y=photo_count, order=('low', 'medium', 'high'))\n",
    "plt.show()\n"
   ]
  },
  {
   "cell_type": "code",
   "execution_count": 30,
   "metadata": {
    "collapsed": false
   },
   "outputs": [
    {
     "data": {
      "image/png": "[encoded data removed]",
      "text/plain": [
       "<matplotlib.figure.Figure at 0x19f2e8cafd0>"
      ]
     },
     "metadata": {},
     "output_type": "display_data"
    }
   ],
   "source": [
    "# for number of photos < 30\n",
    "sns.boxplot(x=train_set[photo_count<30]['interest_level'], y=photo_count[photo_count<30], order=('low', 'medium', 'high'))\n",
    "plt.show()\n",
    "\n"
   ]
  },
  {
   "cell_type": "code",
   "execution_count": 31,
   "metadata": {
    "collapsed": false
   },
   "outputs": [
    {
     "data": {
      "image/png": "[encoded data removed]",
      "text/plain": [
       "<matplotlib.figure.Figure at 0x19f26cd89b0>"
      ]
     },
     "metadata": {},
     "output_type": "display_data"
    }
   ],
   "source": [
    "# draw a heatmap\n",
    "\n",
    "def interest_level_dist(data, catgorical_var):\n",
    "    interest_level_copy = data['interest_level'].copy()\n",
    "    pd_dist = pd.DataFrame(columns=('pct_l', 'pct_m', 'pct_h'))   \n",
    "    var_levels = sorted(np.unique(catgorical_var))\n",
    "    for c in var_levels:\n",
    "        temp_data = interest_level_copy[catgorical_var == c]\n",
    "        pct_l = sum(temp_data == 'low') / temp_data.shape[0]\n",
    "        pct_m = sum(temp_data == 'medium') / temp_data.shape[0]\n",
    "        pct_h = 1 - pct_l - pct_m\n",
    "        temp = pd.Series([pct_l, pct_m, pct_h], index=('pct_l', 'pct_m', 'pct_h'))\n",
    "        pd_dist = pd_dist.append(temp, ignore_index=True)\n",
    "        interest_level_copy = interest_level_copy[catgorical_var != c]\n",
    "    pd_dist.index = var_levels\n",
    "    return pd_dist\n",
    "    \n",
    "pd_photocount = interest_level_dist(train_set, photo_count).transpose()\n",
    "plt.figure(figsize=(15,5))\n",
    "sns.heatmap(pd_photocount, vmin=0, vmax=1, yticklabels=('% Low', '% Medium', '%High'))\n",
    "plt.title('Heatmap: Number of photos vs interest level')\n",
    "plt.yticks(rotation=0)\n",
    "plt.show()\n"
   ]
  },
  {
   "cell_type": "code",
   "execution_count": 32,
   "metadata": {
    "collapsed": false
   },
   "outputs": [
    {
     "name": "stdout",
     "output_type": "stream",
     "text": [
      "There are 3481 managers\n",
      "count    3481.000000\n",
      "mean       14.177535\n",
      "std        53.045270\n",
      "min         1.000000\n",
      "25%         1.000000\n",
      "50%         4.000000\n",
      "75%        13.000000\n",
      "max      2533.000000\n",
      "Name: manager_id, dtype: float64\n"
     ]
    },
    {
     "data": {
      "text/plain": [
       "low       1739\n",
       "medium     622\n",
       "high       172\n",
       "Name: interest_level, dtype: int64"
      ]
     },
     "execution_count": 32,
     "metadata": {},
     "output_type": "execute_result"
    }
   ],
   "source": [
    "# manager_id\n",
    "print ('There are {} managers'.format(len(train_set['manager_id'].unique())))\n",
    "\n",
    "# how many posts\n",
    "manager_counts = train_set['manager_id'].value_counts()\n",
    "\n",
    "print(manager_counts.describe())\n",
    "# the most 2533 houses\n",
    "\n",
    "# let's check the manager with 2533 houses\n",
    "train_set[train_set['manager_id'] == manager_counts.idxmax()]['interest_level'].value_counts()\n",
    "# average level\n",
    "\n"
   ]
  },
  {
   "cell_type": "code",
   "execution_count": 33,
   "metadata": {
    "collapsed": false
   },
   "outputs": [
    {
     "data": {
      "text/html": [
       "<div>\n",
       "<table border=\"1\" class=\"dataframe\">\n",
       "  <thead>\n",
       "    <tr style=\"text-align: right;\">\n",
       "      <th></th>\n",
       "      <th>bathrooms</th>\n",
       "      <th>bedrooms</th>\n",
       "      <th>building_id</th>\n",
       "      <th>created</th>\n",
       "      <th>description</th>\n",
       "      <th>display_address</th>\n",
       "      <th>features</th>\n",
       "      <th>interest_level</th>\n",
       "      <th>latitude</th>\n",
       "      <th>listing_id</th>\n",
       "      <th>longitude</th>\n",
       "      <th>manager_id</th>\n",
       "      <th>photos</th>\n",
       "      <th>price</th>\n",
       "      <th>street_address</th>\n",
       "      <th>manager_counts</th>\n",
       "    </tr>\n",
       "  </thead>\n",
       "  <tbody>\n",
       "    <tr>\n",
       "      <th>99093</th>\n",
       "      <td>1.0</td>\n",
       "      <td>1</td>\n",
       "      <td>0</td>\n",
       "      <td>2016-04-17 01:33:08</td>\n",
       "      <td>Nice size high floor king size full 1 bedroomG...</td>\n",
       "      <td>East 39th Street</td>\n",
       "      <td>[doorman, fitness center, pre-war, dogs allowe...</td>\n",
       "      <td>low</td>\n",
       "      <td>40.7489</td>\n",
       "      <td>6885503</td>\n",
       "      <td>-73.9765</td>\n",
       "      <td>583000f7853e1dff94bdf9433d5afa45</td>\n",
       "      <td>[https://photos.renthop.com/2/6885503_02685c3b...</td>\n",
       "      <td>3350</td>\n",
       "      <td>150 East 39th Street</td>\n",
       "      <td>1</td>\n",
       "    </tr>\n",
       "    <tr>\n",
       "      <th>99360</th>\n",
       "      <td>1.0</td>\n",
       "      <td>1</td>\n",
       "      <td>0</td>\n",
       "      <td>2016-04-19 05:22:03</td>\n",
       "      <td>Welcome to this Queen Size Two Bedroom in Hami...</td>\n",
       "      <td>136th St.</td>\n",
       "      <td>[dogs allowed, cats allowed]</td>\n",
       "      <td>low</td>\n",
       "      <td>40.8214</td>\n",
       "      <td>6895018</td>\n",
       "      <td>-73.9563</td>\n",
       "      <td>d6956eb881462215a4fc348ee7d70891</td>\n",
       "      <td>[https://photos.renthop.com/2/6895018_2a37bb1e...</td>\n",
       "      <td>2300</td>\n",
       "      <td>636 136th St.</td>\n",
       "      <td>1</td>\n",
       "    </tr>\n",
       "    <tr>\n",
       "      <th>99745</th>\n",
       "      <td>1.0</td>\n",
       "      <td>2</td>\n",
       "      <td>bff1a7374bd3c233e37e1ff40ef3c690</td>\n",
       "      <td>2016-04-14 12:44:05</td>\n",
       "      <td>Absolutely stunning, extremely large 2 bedroom...</td>\n",
       "      <td>Bay Ridge Parkway</td>\n",
       "      <td>[laundry in unit, cats allowed, private outdoo...</td>\n",
       "      <td>medium</td>\n",
       "      <td>40.6211</td>\n",
       "      <td>6874060</td>\n",
       "      <td>-74.0093</td>\n",
       "      <td>5fb43ae7b345a0f81093fd95ced23031</td>\n",
       "      <td>[https://photos.renthop.com/2/6874060_26476dac...</td>\n",
       "      <td>2195</td>\n",
       "      <td>1220 Bay Ridge Parkway</td>\n",
       "      <td>1</td>\n",
       "    </tr>\n",
       "    <tr>\n",
       "      <th>998</th>\n",
       "      <td>1.5</td>\n",
       "      <td>1</td>\n",
       "      <td>9f136f839101eaec2e89e711a182593b</td>\n",
       "      <td>2016-06-11 03:15:03</td>\n",
       "      <td>Be a part of the select few in residence at th...</td>\n",
       "      <td>1 Main Street</td>\n",
       "      <td>[doorman, elevator, cats allowed, dogs allowed]</td>\n",
       "      <td>low</td>\n",
       "      <td>40.7035</td>\n",
       "      <td>7140186</td>\n",
       "      <td>-73.9902</td>\n",
       "      <td>916668a9ae4b9a3eeb2356c0c15d0384</td>\n",
       "      <td>[https://photos.renthop.com/2/7140186_61a01ab0...</td>\n",
       "      <td>4995</td>\n",
       "      <td>1 Main Street</td>\n",
       "      <td>1</td>\n",
       "    </tr>\n",
       "    <tr>\n",
       "      <th>99803</th>\n",
       "      <td>1.0</td>\n",
       "      <td>1</td>\n",
       "      <td>967334d616535908b981faf575371ecb</td>\n",
       "      <td>2016-04-19 02:24:06</td>\n",
       "      <td>253 East 10th Street is an Miron Properties Ex...</td>\n",
       "      <td>East 10th Street</td>\n",
       "      <td>[roof deck, laundry in unit, green building, d...</td>\n",
       "      <td>medium</td>\n",
       "      <td>40.7287</td>\n",
       "      <td>6892182</td>\n",
       "      <td>-73.9837</td>\n",
       "      <td>8ceaf83d7371a6c901362d7e7da9805e</td>\n",
       "      <td>[https://photos.renthop.com/2/6892182_f859d3d7...</td>\n",
       "      <td>3641</td>\n",
       "      <td>253 East 10th Street</td>\n",
       "      <td>1</td>\n",
       "    </tr>\n",
       "  </tbody>\n",
       "</table>\n",
       "</div>"
      ],
      "text/plain": [
       "       bathrooms  bedrooms                       building_id  \\\n",
       "99093        1.0         1                                 0   \n",
       "99360        1.0         1                                 0   \n",
       "99745        1.0         2  bff1a7374bd3c233e37e1ff40ef3c690   \n",
       "998          1.5         1  9f136f839101eaec2e89e711a182593b   \n",
       "99803        1.0         1  967334d616535908b981faf575371ecb   \n",
       "\n",
       "                   created                                        description  \\\n",
       "99093  2016-04-17 01:33:08  Nice size high floor king size full 1 bedroomG...   \n",
       "99360  2016-04-19 05:22:03  Welcome to this Queen Size Two Bedroom in Hami...   \n",
       "99745  2016-04-14 12:44:05  Absolutely stunning, extremely large 2 bedroom...   \n",
       "998    2016-06-11 03:15:03  Be a part of the select few in residence at th...   \n",
       "99803  2016-04-19 02:24:06  253 East 10th Street is an Miron Properties Ex...   \n",
       "\n",
       "         display_address                                           features  \\\n",
       "99093   East 39th Street  [doorman, fitness center, pre-war, dogs allowe...   \n",
       "99360          136th St.                       [dogs allowed, cats allowed]   \n",
       "99745  Bay Ridge Parkway  [laundry in unit, cats allowed, private outdoo...   \n",
       "998        1 Main Street    [doorman, elevator, cats allowed, dogs allowed]   \n",
       "99803   East 10th Street  [roof deck, laundry in unit, green building, d...   \n",
       "\n",
       "      interest_level  latitude  listing_id  longitude  \\\n",
       "99093            low   40.7489     6885503   -73.9765   \n",
       "99360            low   40.8214     6895018   -73.9563   \n",
       "99745         medium   40.6211     6874060   -74.0093   \n",
       "998              low   40.7035     7140186   -73.9902   \n",
       "99803         medium   40.7287     6892182   -73.9837   \n",
       "\n",
       "                             manager_id  \\\n",
       "99093  583000f7853e1dff94bdf9433d5afa45   \n",
       "99360  d6956eb881462215a4fc348ee7d70891   \n",
       "99745  5fb43ae7b345a0f81093fd95ced23031   \n",
       "998    916668a9ae4b9a3eeb2356c0c15d0384   \n",
       "99803  8ceaf83d7371a6c901362d7e7da9805e   \n",
       "\n",
       "                                                  photos  price  \\\n",
       "99093  [https://photos.renthop.com/2/6885503_02685c3b...   3350   \n",
       "99360  [https://photos.renthop.com/2/6895018_2a37bb1e...   2300   \n",
       "99745  [https://photos.renthop.com/2/6874060_26476dac...   2195   \n",
       "998    [https://photos.renthop.com/2/7140186_61a01ab0...   4995   \n",
       "99803  [https://photos.renthop.com/2/6892182_f859d3d7...   3641   \n",
       "\n",
       "               street_address  manager_counts  \n",
       "99093    150 East 39th Street               1  \n",
       "99360           636 136th St.               1  \n",
       "99745  1220 Bay Ridge Parkway               1  \n",
       "998             1 Main Street               1  \n",
       "99803    253 East 10th Street               1  "
      ]
     },
     "execution_count": 33,
     "metadata": {},
     "output_type": "execute_result"
    }
   ],
   "source": [
    "# create a new var: number of lists the manager has\n",
    "# make manager_counts into a data frame, then merge to train_set\n",
    "manager_counts_df = manager_counts.to_frame(name='manager_counts')\n",
    "train_set_add_manager = train_set.merge(manager_counts_df, 'inner', left_on='manager_id', right_index=True)\n",
    "train_set_add_manager.tail()\n",
    "\n",
    "\n"
   ]
  },
  {
   "cell_type": "code",
   "execution_count": 34,
   "metadata": {
    "collapsed": false
   },
   "outputs": [],
   "source": [
    "# are there any very good or very bad manager, restrict to those managers with >= 4 \n",
    "manager_gt4_data = train_set[train_set['manager_id'].isin(manager_counts[manager_counts>=4].index.values)]\n",
    "\n",
    "manager_interest_level = interest_level_dist(manager_gt4_data, manager_gt4_data['manager_id'])\n"
   ]
  },
  {
   "cell_type": "code",
   "execution_count": 35,
   "metadata": {
    "collapsed": false
   },
   "outputs": [
    {
     "name": "stdout",
     "output_type": "stream",
     "text": [
      "There are 37 good managers\n",
      "There are 825 bad managers\n"
     ]
    }
   ],
   "source": [
    "good_managers = manager_interest_level[manager_interest_level['pct_h']>0.5]\n",
    "bad_managers = manager_interest_level[manager_interest_level['pct_l']>0.8]\n",
    "\n",
    "print(\"There are {} good managers\".format(good_managers.shape[0]))\n",
    "print(\"There are {} bad managers\".format(bad_managers.shape[0]))\n"
   ]
  },
  {
   "cell_type": "code",
   "execution_count": 50,
   "metadata": {
    "collapsed": false
   },
   "outputs": [],
   "source": [
    "# time: year, month, hour\n",
    "def process_date(date):\n",
    "    '''Returns the year, month and hour of the date'''\n",
    "    year = date[:4]\n",
    "    month = date[5:7]\n",
    "    hour = date[11:13]\n",
    "    return pd.Series([year, month, hour], index=('year', 'month', 'hour'))\n",
    "\n",
    "df_date = train_set['created'].apply(process_date)\n",
    "\n",
    "\n",
    "\n"
   ]
  },
  {
   "cell_type": "code",
   "execution_count": 62,
   "metadata": {
    "collapsed": false
   },
   "outputs": [
    {
     "data": {
      "text/plain": [
       "<matplotlib.axes._subplots.AxesSubplot at 0x19f1b1129e8>"
      ]
     },
     "execution_count": 62,
     "metadata": {},
     "output_type": "execute_result"
    },
    {
     "data": {
      "image/png": "[encoded data removed]",
      "text/plain": [
       "<matplotlib.figure.Figure at 0x19f1aaef470>"
      ]
     },
     "metadata": {},
     "output_type": "display_data"
    }
   ],
   "source": [
    "df_date['year'].unique() # all in 2016\n",
    "df_date['month'].value_counts() # month in 4, 5, 6\n",
    "df_date['hour'].value_counts().sort_index().plot(kind='bar') # most posts created between 1 am to 6 am\n"
   ]
  },
  {
   "cell_type": "code",
   "execution_count": 68,
   "metadata": {
    "collapsed": false
   },
   "outputs": [
    {
     "data": {
      "text/plain": [
       "<matplotlib.axes._subplots.AxesSubplot at 0x19f227795f8>"
      ]
     },
     "execution_count": 68,
     "metadata": {},
     "output_type": "execute_result"
    },
    {
     "data": {
      "image/png": "[encoded data removed]",
      "text/plain": [
       "<matplotlib.figure.Figure at 0x19f1ba725c0>"
      ]
     },
     "metadata": {},
     "output_type": "display_data"
    }
   ],
   "source": [
    "# hour vs interest_level\n",
    "sns.countplot(x=df_date['hour'], hue=train_set['interest_level'], hue_order=('high', 'medium', 'low'))\n",
    "\n",
    "\n"
   ]
  },
  {
   "cell_type": "code",
   "execution_count": null,
   "metadata": {
    "collapsed": false
   },
   "outputs": [],
   "source": [
    "# street address and display address\n"
   ]
  },
  {
   "cell_type": "code",
   "execution_count": null,
   "metadata": {
    "collapsed": false
   },
   "outputs": [],
   "source": []
  },
  {
   "cell_type": "code",
   "execution_count": null,
   "metadata": {
    "collapsed": true
   },
   "outputs": [],
   "source": []
  }
 ],
 "metadata": {
  "kernelspec": {
   "display_name": "Python 3",
   "language": "python",
   "name": "python3"
  },
  "language_info": {
   "codemirror_mode": {
    "name": "ipython",
    "version": 3
   },
   "file_extension": ".py",
   "mimetype": "text/x-python",
   "name": "python",
   "nbconvert_exporter": "python",
   "pygments_lexer": "ipython3",
   "version": "3.5.2"
  }
 },
 "nbformat": 4,
 "nbformat_minor": 0
}
