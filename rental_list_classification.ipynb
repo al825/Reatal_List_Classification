{
 "cells": [
  {
   "cell_type": "markdown",
   "metadata": {},
   "source": [
    "# Rental List Classification"
   ]
  },
  {
   "cell_type": "code",
   "execution_count": 75,
   "metadata": {
    "collapsed": false
   },
   "outputs": [],
   "source": [
    "import pandas as pd\n",
    "import numpy as np\n",
    "from matplotlib import pyplot as plt\n",
    "from ggplot import *\n",
    "import seaborn as sns\n",
    "from colour import Color\n",
    "import re\n",
    "import collections\n",
    "%matplotlib inline"
   ]
  },
  {
   "cell_type": "code",
   "execution_count": 2,
   "metadata": {
    "collapsed": false
   },
   "outputs": [
    {
     "name": "stdout",
     "output_type": "stream",
     "text": [
      "Read in training data set with size of 49352 * 15\n",
      "Read in testing data set with size of 74659 * 14\n"
     ]
    }
   ],
   "source": [
    "# read in the training data set\n",
    "train_set = pd.read_json(r'..\\data\\train.json')\n",
    "test_set = pd.read_json(r'..\\data\\test.json')\n",
    "print(\"Read in training data set with size of {} * {}\".format(train_set.shape[0], train_set.shape[1]))\n",
    "print(\"Read in testing data set with size of {} * {}\".format(test_set.shape[0], test_set.shape[1]))"
   ]
  },
  {
   "cell_type": "code",
   "execution_count": 3,
   "metadata": {
    "collapsed": false
   },
   "outputs": [],
   "source": [
    "\n",
    "\n",
    "\n",
    "# seperate the features and the response\n",
    "train_X = train_set.drop('interest_level', axis=1)\n",
    "train_y = train_set['interest_level']\n"
   ]
  },
  {
   "cell_type": "code",
   "execution_count": 4,
   "metadata": {
    "collapsed": false
   },
   "outputs": [
    {
     "data": {
      "text/plain": [
       "Index(['bathrooms', 'bedrooms', 'building_id', 'created', 'description',\n",
       "       'display_address', 'features', 'latitude', 'listing_id', 'longitude',\n",
       "       'manager_id', 'photos', 'price', 'street_address'],\n",
       "      dtype='object')"
      ]
     },
     "execution_count": 4,
     "metadata": {},
     "output_type": "execute_result"
    }
   ],
   "source": [
    "test_set.columns"
   ]
  },
  {
   "cell_type": "code",
   "execution_count": 5,
   "metadata": {
    "collapsed": false,
    "scrolled": true
   },
   "outputs": [
    {
     "data": {
      "text/html": [
       "<div>\n",
       "<table border=\"1\" class=\"dataframe\">\n",
       "  <thead>\n",
       "    <tr style=\"text-align: right;\">\n",
       "      <th></th>\n",
       "      <th>bathrooms</th>\n",
       "      <th>bedrooms</th>\n",
       "      <th>building_id</th>\n",
       "      <th>created</th>\n",
       "      <th>description</th>\n",
       "      <th>display_address</th>\n",
       "      <th>features</th>\n",
       "      <th>interest_level</th>\n",
       "      <th>latitude</th>\n",
       "      <th>listing_id</th>\n",
       "      <th>longitude</th>\n",
       "      <th>manager_id</th>\n",
       "      <th>photos</th>\n",
       "      <th>price</th>\n",
       "      <th>street_address</th>\n",
       "    </tr>\n",
       "  </thead>\n",
       "  <tbody>\n",
       "    <tr>\n",
       "      <th>10</th>\n",
       "      <td>1.5</td>\n",
       "      <td>3</td>\n",
       "      <td>53a5b119ba8f7b61d4e010512e0dfc85</td>\n",
       "      <td>2016-06-24 07:54:24</td>\n",
       "      <td>A Brand New 3 Bedroom 1.5 bath ApartmentEnjoy ...</td>\n",
       "      <td>Metropolitan Avenue</td>\n",
       "      <td>[]</td>\n",
       "      <td>medium</td>\n",
       "      <td>40.7145</td>\n",
       "      <td>7211212</td>\n",
       "      <td>-73.9425</td>\n",
       "      <td>5ba989232d0489da1b5f2c45f6688adc</td>\n",
       "      <td>[https://photos.renthop.com/2/7211212_1ed4542e...</td>\n",
       "      <td>3000</td>\n",
       "      <td>792 Metropolitan Avenue</td>\n",
       "    </tr>\n",
       "    <tr>\n",
       "      <th>10000</th>\n",
       "      <td>1.0</td>\n",
       "      <td>2</td>\n",
       "      <td>c5c8a357cba207596b04d1afd1e4f130</td>\n",
       "      <td>2016-06-12 12:19:27</td>\n",
       "      <td></td>\n",
       "      <td>Columbus Avenue</td>\n",
       "      <td>[Doorman, Elevator, Fitness Center, Cats Allow...</td>\n",
       "      <td>low</td>\n",
       "      <td>40.7947</td>\n",
       "      <td>7150865</td>\n",
       "      <td>-73.9667</td>\n",
       "      <td>7533621a882f71e25173b27e3139d83d</td>\n",
       "      <td>[https://photos.renthop.com/2/7150865_be3306c5...</td>\n",
       "      <td>5465</td>\n",
       "      <td>808 Columbus Avenue</td>\n",
       "    </tr>\n",
       "    <tr>\n",
       "      <th>100004</th>\n",
       "      <td>1.0</td>\n",
       "      <td>1</td>\n",
       "      <td>c3ba40552e2120b0acfc3cb5730bb2aa</td>\n",
       "      <td>2016-04-17 03:26:41</td>\n",
       "      <td>Top Top West Village location, beautiful Pre-w...</td>\n",
       "      <td>W 13 Street</td>\n",
       "      <td>[Laundry In Building, Dishwasher, Hardwood Flo...</td>\n",
       "      <td>high</td>\n",
       "      <td>40.7388</td>\n",
       "      <td>6887163</td>\n",
       "      <td>-74.0018</td>\n",
       "      <td>d9039c43983f6e564b1482b273bd7b01</td>\n",
       "      <td>[https://photos.renthop.com/2/6887163_de85c427...</td>\n",
       "      <td>2850</td>\n",
       "      <td>241 W 13 Street</td>\n",
       "    </tr>\n",
       "    <tr>\n",
       "      <th>100007</th>\n",
       "      <td>1.0</td>\n",
       "      <td>1</td>\n",
       "      <td>28d9ad350afeaab8027513a3e52ac8d5</td>\n",
       "      <td>2016-04-18 02:22:02</td>\n",
       "      <td>Building Amenities - Garage - Garden - fitness...</td>\n",
       "      <td>East 49th Street</td>\n",
       "      <td>[Hardwood Floors, No Fee]</td>\n",
       "      <td>low</td>\n",
       "      <td>40.7539</td>\n",
       "      <td>6888711</td>\n",
       "      <td>-73.9677</td>\n",
       "      <td>1067e078446a7897d2da493d2f741316</td>\n",
       "      <td>[https://photos.renthop.com/2/6888711_6e660cee...</td>\n",
       "      <td>3275</td>\n",
       "      <td>333 East 49th Street</td>\n",
       "    </tr>\n",
       "    <tr>\n",
       "      <th>100013</th>\n",
       "      <td>1.0</td>\n",
       "      <td>4</td>\n",
       "      <td>0</td>\n",
       "      <td>2016-04-28 01:32:41</td>\n",
       "      <td>Beautifully renovated 3 bedroom flex 4 bedroom...</td>\n",
       "      <td>West 143rd Street</td>\n",
       "      <td>[Pre-War]</td>\n",
       "      <td>low</td>\n",
       "      <td>40.8241</td>\n",
       "      <td>6934781</td>\n",
       "      <td>-73.9493</td>\n",
       "      <td>98e13ad4b495b9613cef886d79a6291f</td>\n",
       "      <td>[https://photos.renthop.com/2/6934781_1fa4b41a...</td>\n",
       "      <td>3350</td>\n",
       "      <td>500 West 143rd Street</td>\n",
       "    </tr>\n",
       "  </tbody>\n",
       "</table>\n",
       "</div>"
      ],
      "text/plain": [
       "        bathrooms  bedrooms                       building_id  \\\n",
       "10            1.5         3  53a5b119ba8f7b61d4e010512e0dfc85   \n",
       "10000         1.0         2  c5c8a357cba207596b04d1afd1e4f130   \n",
       "100004        1.0         1  c3ba40552e2120b0acfc3cb5730bb2aa   \n",
       "100007        1.0         1  28d9ad350afeaab8027513a3e52ac8d5   \n",
       "100013        1.0         4                                 0   \n",
       "\n",
       "                    created  \\\n",
       "10      2016-06-24 07:54:24   \n",
       "10000   2016-06-12 12:19:27   \n",
       "100004  2016-04-17 03:26:41   \n",
       "100007  2016-04-18 02:22:02   \n",
       "100013  2016-04-28 01:32:41   \n",
       "\n",
       "                                              description  \\\n",
       "10      A Brand New 3 Bedroom 1.5 bath ApartmentEnjoy ...   \n",
       "10000                                                       \n",
       "100004  Top Top West Village location, beautiful Pre-w...   \n",
       "100007  Building Amenities - Garage - Garden - fitness...   \n",
       "100013  Beautifully renovated 3 bedroom flex 4 bedroom...   \n",
       "\n",
       "            display_address  \\\n",
       "10      Metropolitan Avenue   \n",
       "10000       Columbus Avenue   \n",
       "100004          W 13 Street   \n",
       "100007     East 49th Street   \n",
       "100013    West 143rd Street   \n",
       "\n",
       "                                                 features interest_level  \\\n",
       "10                                                     []         medium   \n",
       "10000   [Doorman, Elevator, Fitness Center, Cats Allow...            low   \n",
       "100004  [Laundry In Building, Dishwasher, Hardwood Flo...           high   \n",
       "100007                          [Hardwood Floors, No Fee]            low   \n",
       "100013                                          [Pre-War]            low   \n",
       "\n",
       "        latitude  listing_id  longitude                        manager_id  \\\n",
       "10       40.7145     7211212   -73.9425  5ba989232d0489da1b5f2c45f6688adc   \n",
       "10000    40.7947     7150865   -73.9667  7533621a882f71e25173b27e3139d83d   \n",
       "100004   40.7388     6887163   -74.0018  d9039c43983f6e564b1482b273bd7b01   \n",
       "100007   40.7539     6888711   -73.9677  1067e078446a7897d2da493d2f741316   \n",
       "100013   40.8241     6934781   -73.9493  98e13ad4b495b9613cef886d79a6291f   \n",
       "\n",
       "                                                   photos  price  \\\n",
       "10      [https://photos.renthop.com/2/7211212_1ed4542e...   3000   \n",
       "10000   [https://photos.renthop.com/2/7150865_be3306c5...   5465   \n",
       "100004  [https://photos.renthop.com/2/6887163_de85c427...   2850   \n",
       "100007  [https://photos.renthop.com/2/6888711_6e660cee...   3275   \n",
       "100013  [https://photos.renthop.com/2/6934781_1fa4b41a...   3350   \n",
       "\n",
       "                 street_address  \n",
       "10      792 Metropolitan Avenue  \n",
       "10000       808 Columbus Avenue  \n",
       "100004          241 W 13 Street  \n",
       "100007     333 East 49th Street  \n",
       "100013    500 West 143rd Street  "
      ]
     },
     "execution_count": 5,
     "metadata": {},
     "output_type": "execute_result"
    }
   ],
   "source": [
    "train_set.head()"
   ]
  },
  {
   "cell_type": "markdown",
   "metadata": {},
   "source": [
    "## Data explorary analysis"
   ]
  },
  {
   "cell_type": "code",
   "execution_count": 6,
   "metadata": {
    "collapsed": false
   },
   "outputs": [
    {
     "name": "stdout",
     "output_type": "stream",
     "text": [
      "low       34284\n",
      "medium    11229\n",
      "high       3839\n",
      "Name: interest_level, dtype: int64\n"
     ]
    },
    {
     "data": {
      "image/png": "[encoded data removed]",
      "text/plain": [
       "<matplotlib.figure.Figure at 0x16f73a325f8>"
      ]
     },
     "metadata": {},
     "output_type": "display_data"
    }
   ],
   "source": [
    "# Response var: interest_level\n",
    "interest_level_count = train_set['interest_level'].value_counts()\n",
    "print(interest_level_count)\n",
    "\n",
    "# creaate gradient color bar for interest levels\n",
    "red = Color(\"black\")\n",
    "level_c = list(red.range_to(Color(\"red\"),len(interest_level_count)))\n",
    "\n",
    "\n",
    "\n",
    "ax = plt.subplot(1, 1, 1)\n",
    "for i in range(len(interest_level_count)): \n",
    "    ax.bar(0.2, interest_level_count[i], width=0.1, bottom=sum(interest_level_count[0:i]), label=interest_level_count.index[i], \n",
    "           color = level_c[i].rgb)\n",
    "           \n",
    "ax.set(xlim=(0, 0.5), xticks=(), title='Bar Plot of Interest Level', ylabel='Frequency')\n",
    "plt.legend()\n",
    "plt.show()\n"
   ]
  },
  {
   "cell_type": "code",
   "execution_count": 7,
   "metadata": {
    "collapsed": false
   },
   "outputs": [
    {
     "name": "stdout",
     "output_type": "stream",
     "text": [
      "Descriptive stats of bb_ratio: \n",
      "\n",
      "count    49352.000000\n",
      "mean         1.262346\n",
      "std          0.874721\n",
      "min          0.000000\n",
      "25%          1.000000\n",
      "50%          1.000000\n",
      "75%          2.000000\n",
      "max          6.000000\n",
      "dtype: float64\n"
     ]
    },
    {
     "data": {
      "image/png": "[encoded data removed]",
      "text/plain": [
       "<matplotlib.figure.Figure at 0x16f7394d128>"
      ]
     },
     "metadata": {},
     "output_type": "display_data"
    }
   ],
   "source": [
    "# Number of bedrooms, bathrooms\n",
    "# create a new var: bathroom-bedroom ratio\n",
    "# for those do not have a bedroom, assume they are studio and set the number of bedrooms to 1\n",
    "bb_ratio = train_set['bedrooms'] / train_set['bathrooms'].apply(lambda x: x if x != 0 else 1)\n",
    "print(\"Descriptive stats of bb_ratio: \\n\")\n",
    "print(bb_ratio.describe())\n",
    "\n",
    "\n",
    "\n",
    "for room in ('bathrooms', 'bedrooms'):\n",
    "    ax = plt.subplot(1, 2, 1)\n",
    "    train_set[room].hist(alpha=0.7, label=room)\n",
    "ax.set(xlabel='Number of rooms', ylabel='Frequenncy')\n",
    "ax.legend(loc=1)\n",
    "\n",
    "ax = plt.subplot(1, 2, 2)\n",
    "ax.hist(bb_ratio, color='orange', alpha=0.7)\n",
    "ax.set(xlabel='Bathroom-Bedroom Radio', ylabel='Frequency')\n",
    "plt.show()\n"
   ]
  },
  {
   "cell_type": "code",
   "execution_count": 8,
   "metadata": {
    "collapsed": false
   },
   "outputs": [
    {
     "data": {
      "image/png": "[encoded data removed]",
      "text/plain": [
       "<matplotlib.figure.Figure at 0x16f73a32898>"
      ]
     },
     "metadata": {},
     "output_type": "display_data"
    }
   ],
   "source": [
    "# Boxplots of number of bedroom, bathrooms and bb_ratio faceted by interest level\n",
    "ax = plt.subplot(1, 3, 1)\n",
    "sns.boxplot(x='interest_level', y='bedrooms', data=train_set, ax=ax, order=('low', 'medium', 'high'))\n",
    "ax = plt.subplot(1, 3, 2)\n",
    "sns.boxplot(x='interest_level', y='bathrooms', data=train_set, ax=ax, order=('low', 'medium', 'high'))\n",
    "ax = plt.subplot(1, 3, 3)\n",
    "sns.boxplot(x=train_set['interest_level'], y=bb_ratio, ax=ax,order=('low', 'medium', 'high'))\n",
    "plt.show()\n"
   ]
  },
  {
   "cell_type": "code",
   "execution_count": 9,
   "metadata": {
    "collapsed": false
   },
   "outputs": [
    {
     "name": "stdout",
     "output_type": "stream",
     "text": [
      "Stats of the vars: longitude, latitude:\n",
      "          longitude      latitude\n",
      "count  49352.000000  49352.000000\n",
      "mean     -73.955716     40.741545\n",
      "std        1.177912      0.638535\n",
      "min     -118.271000      0.000000\n",
      "25%      -73.991700     40.728300\n",
      "50%      -73.977900     40.751800\n",
      "75%      -73.954800     40.774300\n",
      "max        0.000000     44.883500\n",
      "\n",
      "Stats of latitude when longitude = 0:\n",
      "count    12\n",
      "mean      0\n",
      "std       0\n",
      "min       0\n",
      "25%       0\n",
      "50%       0\n",
      "75%       0\n",
      "max       0\n",
      "Name: latitude, dtype: float64\n",
      "\n",
      "inteset levels when longitude = 0:\n",
      "low       11\n",
      "medium     1\n",
      "Name: interest_level, dtype: int64\n"
     ]
    }
   ],
   "source": [
    "# longitute and latitude\n",
    "print('Stats of the vars: longitude, latitude:')\n",
    "print(train_set[['longitude', 'latitude']].describe())\n",
    "\n",
    "# find potential outliers with longitude = 0\n",
    "print('\\nStats of latitude when longitude = 0:')\n",
    "print(train_set[train_set['longitude']==0]['latitude'].describe())\n",
    "print('\\ninteset levels when longitude = 0:')\n",
    "print(train_set[train_set['longitude']==0]['interest_level'].value_counts())\n",
    "\n"
   ]
  },
  {
   "cell_type": "code",
   "execution_count": 10,
   "metadata": {
    "collapsed": false,
    "scrolled": true
   },
   "outputs": [
    {
     "data": {
      "image/png": "[encoded data removed]",
      "text/plain": [
       "<matplotlib.figure.Figure at 0x16f727d8978>"
      ]
     },
     "metadata": {},
     "output_type": "display_data"
    },
    {
     "name": "stdout",
     "output_type": "stream",
     "text": [
      "<ggplot: (-9223371938217675772)>\n"
     ]
    },
    {
     "data": {
      "image/png": "[encoded data removed]",
      "text/plain": [
       "<matplotlib.figure.Figure at 0x16f73624eb8>"
      ]
     },
     "metadata": {},
     "output_type": "display_data"
    },
    {
     "name": "stdout",
     "output_type": "stream",
     "text": [
      "<ggplot: (98635864268)>\n"
     ]
    }
   ],
   "source": [
    "def zoomin_ll(data, condition):\n",
    "    g = ggplot(data[condition], aes(x='longitude', y='latitude', color='interest_level')) + \\\n",
    "        geom_jitter(alpha=0.6)\n",
    "    return g\n",
    "\n",
    "\n",
    "\n",
    "# Let's zoom in (remove longitude = 0)\n",
    "cond1 = train_set['longitude'] != 0\n",
    "g1 = zoomin_ll(train_set, cond1)\n",
    "\n",
    "# let's furthur zoom in (longtitude: 40~42, latitude: -80~-70)\n",
    "cond2 = (train_set['latitude']<=42) & (train_set['latitude']>=40) & (train_set['longitude']>=-80) & (train_set['longitude']<=-70)\n",
    "g2 = zoomin_ll(train_set, cond2)\n",
    "\n",
    "print(g1)\n",
    "print(g2)\n",
    "\n"
   ]
  },
  {
   "cell_type": "code",
   "execution_count": 11,
   "metadata": {
    "collapsed": false
   },
   "outputs": [
    {
     "name": "stdout",
     "output_type": "stream",
     "text": [
      "Stats of Price:\n",
      "count      49352.000000\n",
      "mean        3830.174036\n",
      "std        22066.865885\n",
      "min           43.000000\n",
      "25%         2500.000000\n",
      "50%         3150.000000\n",
      "75%         4100.000000\n",
      "max      4490000.000000\n",
      "Name: price, dtype: float64\n",
      "\n",
      "The 10 cheapest prices are:\n",
      "[43, 45, 401, 695, 695, 695, 695, 700, 800, 868]\n",
      "\n",
      "The 10 most expensive prices are:\n",
      "[4490000, 1150000, 1070000, 1070000, 135000, 111111, 100000, 90000, 85000, 80000]\n"
     ]
    }
   ],
   "source": [
    "# price\n",
    "print('Stats of Price:')\n",
    "print(train_set['price'].describe())\n",
    "print('\\nThe 10 cheapest prices are:')\n",
    "print(sorted(train_set['price'])[:10])\n",
    "print('\\nThe 10 most expensive prices are:')\n",
    "print(sorted(train_set['price'], reverse=True)[:10])\n",
    "\n"
   ]
  },
  {
   "cell_type": "code",
   "execution_count": 12,
   "metadata": {
    "collapsed": false
   },
   "outputs": [
    {
     "name": "stdout",
     "output_type": "stream",
     "text": [
      "There are 2 low outliers and 2786 high outliers\n",
      "low    2\n",
      "Name: interest_level, dtype: int64\n",
      "low       2572\n",
      "medium     193\n",
      "high        21\n",
      "Name: interest_level, dtype: int64\n"
     ]
    }
   ],
   "source": [
    "# use the Tukey Method to identify potential outliers in price\n",
    "def turkey_outlier(data, var, alpha, outlier=True):\n",
    "    q1 = np.percentile(data[var], 25)\n",
    "    q3 = np.percentile(data[var], 75)\n",
    "    if outlier:\n",
    "        return data[(data[var] < (q1-alpha*(q3-q1)))], data[(data[var] > q3+alpha*(q3-q1))]\n",
    "    else:\n",
    "        return data[(data[var] >= (q1-alpha*(q3-q1))) & (data[var] <= q3+alpha*(q3-q1))]\n",
    "price_lowoutliers, price_highoutliers = turkey_outlier(train_set, 'price', 1.5, True) # 2788 potential outliers\n",
    "price_noout = turkey_outlier(train_set, 'price', 1.5, False)\n",
    "print('There are {} low outliers and {} high outliers'.format(len(price_lowoutliers), len(price_highoutliers)))\n",
    "\n",
    "print(price_lowoutliers['interest_level'].value_counts())\n",
    "print(price_highoutliers['interest_level'].value_counts())"
   ]
  },
  {
   "cell_type": "code",
   "execution_count": 13,
   "metadata": {
    "collapsed": false
   },
   "outputs": [
    {
     "data": {
      "image/png": "[encoded data removed]",
      "text/plain": [
       "<matplotlib.figure.Figure at 0x16f72fb1c18>"
      ]
     },
     "metadata": {},
     "output_type": "display_data"
    }
   ],
   "source": [
    "# hist of original price, outlier removed price and log(price)\n",
    "ax = plt.subplot(1, 3, 1)\n",
    "train_set['price'].hist()\n",
    "ax.set(title='Original Price')\n",
    "ax = plt.subplot(1, 3, 2)\n",
    "price_noout['price'].hist()\n",
    "ax.set(title='Outlier Removed Price')\n",
    "ax = plt.subplot(1, 3, 3)\n",
    "np.log(train_set['price']).hist()\n",
    "ax.set(title='Log(Price)')\n",
    "plt.show()\n"
   ]
  },
  {
   "cell_type": "code",
   "execution_count": 14,
   "metadata": {
    "collapsed": false
   },
   "outputs": [
    {
     "data": {
      "image/png": "[encoded data removed]",
      "text/plain": [
       "<matplotlib.figure.Figure at 0x16f736b2d68>"
      ]
     },
     "metadata": {},
     "output_type": "display_data"
    }
   ],
   "source": [
    "# price vs interest level\n",
    "ax = plt.subplot(1, 3, 1)\n",
    "sns.boxplot(x='interest_level', y='price', data=train_set, order=('low', 'medium', 'high'))\n",
    "ax.set(title='Price vs Interest Level')\n",
    "ax = plt.subplot(1, 3, 2)\n",
    "sns.boxplot(x='interest_level', y='price', data=price_noout, order=('low', 'medium', 'high'))\n",
    "ax.set(title='Outlier-Removed Price vs Interest Level')\n",
    "ax = plt.subplot(1, 3, 3)\n",
    "sns.boxplot(x=train_set['interest_level'], y=np.log(train_set['price']), order=('low', 'medium', 'high'))\n",
    "ax.set(title='log(Price) vs Interest Level')\n",
    "plt.show()"
   ]
  },
  {
   "cell_type": "code",
   "execution_count": 15,
   "metadata": {
    "collapsed": false
   },
   "outputs": [
    {
     "data": {
      "image/png": "[encoded data removed]",
      "text/plain": [
       "<matplotlib.figure.Figure at 0x16f73670438>"
      ]
     },
     "metadata": {},
     "output_type": "display_data"
    }
   ],
   "source": [
    "# price_bedroom ratio\n",
    "price_bedroom_ratio = train_set['price']/train_set['bedrooms'].apply(lambda x: x if x !=0 else 1)\n",
    "ax = plt.subplot(1, 1, 1)\n",
    "sns.boxplot(x=train_set['interest_level'], y=np.log(price_bedroom_ratio), order=('low', 'medium', 'high'))\n",
    "ax.set(title='log(Price-bedroom ratio) vs Interest Level')\n",
    "plt.show()"
   ]
  },
  {
   "cell_type": "code",
   "execution_count": 16,
   "metadata": {
    "collapsed": false
   },
   "outputs": [
    {
     "name": "stdout",
     "output_type": "stream",
     "text": [
      "Stats of number of features:\n",
      "count    49352.000000\n",
      "mean         5.428473\n",
      "std          3.923411\n",
      "min          0.000000\n",
      "25%          2.000000\n",
      "50%          5.000000\n",
      "75%          8.000000\n",
      "max         39.000000\n",
      "Name: features, dtype: float64\n",
      "\n",
      "Longest Features:\n",
      "[['Common Outdoor Space', 'Laundry In Unit', 'Cats Allowed', 'Private Outdoor Space', 'Dogs Allowed', 'Parking Space', 'Doorman', 'Elevator', 'Fitness Center', 'Laundry In Building', 'Concierge', 'Garage', 'Green Building', 'Health Club', 'High Speed Internet', 'Laundry', 'Lounge', 'New Construction', 'Roof Deck', 'Storage', 'Subway', 'Valet', 'Wheelchair Access', 'WiFi', 'Balcony', 'Dishwasher', 'Eat In Kitchen', 'Garden', 'Granite Kitchen', 'Hardwood', 'High Ceilings', 'Light', 'Live Work', 'Marble Bath', 'Outdoor Space', 'Patio', 'Renovated', 'Walk-In Closet', 'Walls OK']]\n"
     ]
    }
   ],
   "source": [
    "# features\n",
    "# number of features\n",
    "num_features = train_set['features'].apply(len)\n",
    "print('Stats of number of features:')\n",
    "print(num_features.describe())\n",
    "\n",
    "print('\\nLongest Features:')\n",
    "print(list(train_set['features'][train_set['features'].apply(len) == max(train_set['features'].apply(len))]))\n"
   ]
  },
  {
   "cell_type": "code",
   "execution_count": 17,
   "metadata": {
    "collapsed": false
   },
   "outputs": [
    {
     "data": {
      "image/png": "[encoded data removed]",
      "text/plain": [
       "<matplotlib.figure.Figure at 0x16f736354a8>"
      ]
     },
     "metadata": {},
     "output_type": "display_data"
    }
   ],
   "source": [
    "# let's look at those with 0 features\n",
    "feature0_counts = train_set[train_set['features'].apply(len)==0]['interest_level'].value_counts()\n",
    "\n",
    "\n",
    "ax1 = plt.subplot(1, 2, 1)\n",
    "ax1.pie(interest_level_count, labels=interest_level_count.index, startangle=90, autopct='%1.1f%%', shadow=True)\n",
    "ax1.set(title='All data')\n",
    "\n",
    "ax2 = plt.subplot(1, 2, 2)\n",
    "ax2.pie(feature0_counts, labels=feature0_counts.index, startangle=90, autopct='%1.1f%%', shadow=True)\n",
    "ax2.set(title='Feature = 0')\n",
    "plt.show()"
   ]
  },
  {
   "cell_type": "code",
   "execution_count": 19,
   "metadata": {
    "collapsed": false
   },
   "outputs": [
    {
     "name": "stdout",
     "output_type": "stream",
     "text": [
      "1556\n"
     ]
    },
    {
     "data": {
      "text/plain": [
       "['Stone countertops',\n",
       " '3br',\n",
       " 'Pet friendly ( case by case )',\n",
       " 'laundry & housekeeping',\n",
       " '** NO FEE MULTI-LEVEL MANSION! * MASSIVE 3BR TRIPLEX * HUGE PRIVATE TERRACE * E50s & PARK AVE * ELEV/LNDRY BLDG **',\n",
       " 'bicycle storage',\n",
       " 'Mins From Train',\n",
       " 'Rent includes cable tv and wireless internet',\n",
       " 'laundry room as well as housekeeping & dry-cleaning services',\n",
       " 'Super On Site']"
      ]
     },
     "execution_count": 19,
     "metadata": {},
     "output_type": "execute_result"
    }
   ],
   "source": [
    "# unique features\n",
    "uniq_feat = set()\n",
    "for f in train_set['features']:\n",
    "    uniq_feat = uniq_feat.union(set(f))\n",
    "print(len(uniq_feat))\n",
    "list(uniq_feat)[:10]"
   ]
  },
  {
   "cell_type": "code",
   "execution_count": 20,
   "metadata": {
    "collapsed": false
   },
   "outputs": [
    {
     "data": {
      "text/plain": [
       "[['** HEART OF THE VILLAGE! * MASSIVE 3BR SUPER SHARE * MR CLEAN APPROVED * ORNATE PREWAR DETAILS * GOURMET KITCHEN * TONS OF SUNLIGHT **'],\n",
       " ['** COURT SQUARE GEM! * SPRAWLING SUNDRENCHED 2BR HOME * CUSTOM FINISHES * DISHWASHER * FIREPLACES * EAT-IN KITCHEN * BAY WINDOWS **'],\n",
       " ['** ELEGANT E50s!! * SPRAWLING SUNDRENCHED 2BR HOME * FRENCH DRS * BREAKFAST BAR * DISHWASHER * EAT-IN KITCHEN * WALK-IN CLOSETS! **'],\n",
       " ['** THE PERFECT SHARE! * HUGE TRUE 3BR HOME * GOURMET KITCHEN * TONS OF NATURAL LIGHT * 2 BLKS TO WATERFRONT & BEDFORD L STOP **'],\n",
       " ['** SPRAWLING TRUE 3BR SUPER SHARE * FIT FOR KINGS! * UNIQUE RENOVATIONS * STEPS TO THE WATERFRONT * 1 BLK TO BEDFORD L STOP **'],\n",
       " ['** BROWNSTONE BEAUTY * MASSIVE 2BR HOME * STEPS TO THE PARK * SS KITCHEN * DISHWASHER * OVERSIZED CLOSETS * NEAR COLUMBIA U **'],\n",
       " ['** OVERSIZED & UNDERPRICED!! * SPRAWLING SUNFILLED STUDIO * GOURMET KITCHEN * GUT RENOVATED * W50s ~ NEAR CENTRAL PARK! **'],\n",
       " ['** W70s WINNER! * SUPER SWEET STUDIO * WALLS OF WINDOWS * HI END RENOVATIONS * OVERSIZED CLOSETS * STEPS TO THE PARK! **'],\n",
       " ['** THE PERFECT SHARE * SPRAWLING 3BR HOME * HI END RENOVATIONS * MR CLEAN APPROVED * ROOMY CLOSETS * G-VILLAGE BABY! **'],\n",
       " [\"** HUGE TRUE 3BR SUPER SHARE * STUNNING RENOVATIONS * WALLS OF WINDOWS * COOK'S KITCHEN * GORGEOUS GREENWICH VILLAGE **\"]]"
      ]
     },
     "execution_count": 20,
     "metadata": {},
     "output_type": "execute_result"
    }
   ],
   "source": [
    "# 1 feature\n",
    "feature1 = train_set[train_set['features'].apply(len)==1]['features']\n",
    "sorted(feature1, key=lambda x: len(x[0]), reverse=True)[:10]\n"
   ]
  },
  {
   "cell_type": "code",
   "execution_count": 65,
   "metadata": {
    "collapsed": false
   },
   "outputs": [],
   "source": [
    "def feature_clean(feature_list):\n",
    "    # some features are separated by '*' '.', '^' clean those features\n",
    "    for ff in feature_list: \n",
    "        if any(x in ff for x in ('*', '.', '^')):\n",
    "            feature_list.remove(ff)\n",
    "            ff = re.sub('[*|^|.]+', ',', feature_list[0])\n",
    "            # remove the ',' at the beginning and at the end of the string\n",
    "            ff = re.sub('^[,]|[,]$', '', ff)\n",
    "            feature_list += ff.split(',')\n",
    "    # clean the text, strip and lower case\n",
    "    return [f.strip().lower() for f in feature_list]\n",
    "\n",
    "feature = train_set['features'].apply(feature_clean)"
   ]
  },
  {
   "cell_type": "code",
   "execution_count": 66,
   "metadata": {
    "collapsed": false
   },
   "outputs": [
    {
     "data": {
      "text/plain": [
       "[['offering  1 month free or 1 month op'],\n",
       " ['parking spot with additional fee'],\n",
       " ['wood-burning fireplace'],\n",
       " ['private outdoor space'],\n",
       " ['private outdoor space'],\n",
       " ['private outdoor space'],\n",
       " ['private outdoor space'],\n",
       " ['private outdoor space'],\n",
       " ['private outdoor space'],\n",
       " ['private outdoor space']]"
      ]
     },
     "execution_count": 66,
     "metadata": {},
     "output_type": "execute_result"
    }
   ],
   "source": [
    "feature.head()\n",
    "feature11 = feature[feature.apply(len)==1]\n",
    "sorted(feature11, key=lambda x: len(x[0]), reverse=True)[:10]\n"
   ]
  },
  {
   "cell_type": "code",
   "execution_count": 67,
   "metadata": {
    "collapsed": false
   },
   "outputs": [],
   "source": [
    "train_set['features'] = feature\n"
   ]
  },
  {
   "cell_type": "code",
   "execution_count": 84,
   "metadata": {
    "collapsed": false
   },
   "outputs": [
    {
     "name": "stdout",
     "output_type": "stream",
     "text": [
      "1186\n"
     ]
    },
    {
     "data": {
      "text/plain": [
       "['sprawling 3br super share',\n",
       " 'unassigned paid parking available nearby',\n",
       " '3br',\n",
       " 'outdoor space (private roof deck)',\n",
       " 'direct bus line to ferry',\n",
       " 'private roof deck',\n",
       " 'huge 1 bedroom',\n",
       " 'washer and dryer in unit',\n",
       " 'leed certificate gold',\n",
       " 'bicycle storage']"
      ]
     },
     "execution_count": 84,
     "metadata": {},
     "output_type": "execute_result"
    }
   ],
   "source": [
    "# All features\n",
    "def get_features(feat):\n",
    "    feature_list = []\n",
    "    for f in feat:\n",
    "        if f != []:\n",
    "            feature_list += f\n",
    "    return feature_list\n",
    "\n",
    "\n",
    "feat = get_features(train_set['features'])\n",
    "\n",
    "\n",
    "uniq_feat = set(feat)\n",
    "print(len(uniq_feat))\n",
    "list(uniq_feat)[:10]\n",
    "\n",
    "#number of unique features from 1556 to 1186"
   ]
  },
  {
   "cell_type": "code",
   "execution_count": 92,
   "metadata": {
    "collapsed": false
   },
   "outputs": [
    {
     "name": "stdout",
     "output_type": "stream",
     "text": [
      "[('elevator', 26300), ('cats allowed', 23631), ('hardwood floors', 23559), ('dogs allowed', 22035), ('doorman', 20969), ('dishwasher', 20810), ('laundry in building', 18955), ('no fee', 18102), ('fitness center', 13258), ('laundry in unit', 9464), ('pre-war', 9149), ('roof deck', 6555), ('outdoor space', 5270), ('dining room', 5151), ('high speed internet', 4299), ('balcony', 3058), ('swimming pool', 2730), ('new construction', 2608), ('terrace', 2313), ('exclusive', 2168)]\n",
      "[('elevator', 18308), ('cats allowed', 17105), ('dogs allowed', 16083), ('doorman', 15354), ('hardwood floors', 14773), ('dishwasher', 13598), ('laundry in building', 12047), ('no fee', 10963), ('fitness center', 9555), ('pre-war', 6649), ('laundry in unit', 6267), ('roof deck', 4346), ('dining room', 3261), ('outdoor space', 3227), ('high speed internet', 2668), ('balcony', 1974), ('swimming pool', 1875), ('new construction', 1706), ('terrace', 1476), ('exclusive', 1476)]\n",
      "[('hardwood floors', 6796), ('elevator', 6173), ('dishwasher', 5688), ('no fee', 5364), ('laundry in building', 5319), ('cats allowed', 4901), ('doorman', 4505), ('dogs allowed', 4499), ('fitness center', 2970), ('laundry in unit', 2531), ('pre-war', 1962), ('roof deck', 1798), ('outdoor space', 1567), ('dining room', 1451), ('high speed internet', 1285), ('balcony', 829), ('new construction', 712), ('swimming pool', 691), ('terrace', 638), ('loft', 563)]\n",
      "[('hardwood floors', 1990), ('elevator', 1819), ('no fee', 1775), ('cats allowed', 1625), ('laundry in building', 1589), ('dishwasher', 1524), ('dogs allowed', 1453), ('doorman', 1110), ('fitness center', 733), ('laundry in unit', 666), ('pre-war', 538), ('outdoor space', 476), ('dining room', 439), ('roof deck', 411), ('high speed internet', 346), ('exclusive', 259), ('balcony', 255), ('terrace', 199), ('new construction', 190), ('garden/patio', 180)]\n"
     ]
    }
   ],
   "source": [
    "# feature frequency\n",
    "def feat_freq(feat, n_feat=20):\n",
    "    '''Find feature frequency'''\n",
    "    feature_list = get_features(feat)    \n",
    "    feat_counts = collections.Counter(feature_list)\n",
    "    return sorted(feat_counts.items(), key = lambda x: x[1], reverse=True)[:n_feat]\n",
    "\n",
    "print(feat_freq(train_set['features']))\n",
    "print(feat_freq(train_set[train_set['interest_level']=='low']['features']))\n",
    "print(feat_freq(train_set[train_set['interest_level']=='medium']['features']))\n",
    "print(feat_freq(train_set[train_set['interest_level']=='high']['features']))"
   ]
  },
  {
   "cell_type": "code",
   "execution_count": 79,
   "metadata": {
    "collapsed": false
   },
   "outputs": [
    {
     "data": {
      "text/plain": [
       "10                                                       []\n",
       "10000     [doorman, elevator, fitness center, cats allow...\n",
       "100004    [laundry in building, dishwasher, hardwood flo...\n",
       "100007                            [hardwood floors, no fee]\n",
       "100013                                            [pre-war]\n",
       "Name: features, dtype: object"
      ]
     },
     "execution_count": 79,
     "metadata": {},
     "output_type": "execute_result"
    }
   ],
   "source": [
    "# 20 most frequent features\n",
    "train_set['features'].head()"
   ]
  },
  {
   "cell_type": "code",
   "execution_count": null,
   "metadata": {
    "collapsed": true
   },
   "outputs": [],
   "source": []
  }
 ],
 "metadata": {
  "kernelspec": {
   "display_name": "Python 3",
   "language": "python",
   "name": "python3"
  },
  "language_info": {
   "codemirror_mode": {
    "name": "ipython",
    "version": 3
   },
   "file_extension": ".py",
   "mimetype": "text/x-python",
   "name": "python",
   "nbconvert_exporter": "python",
   "pygments_lexer": "ipython3",
   "version": "3.5.2"
  }
 },
 "nbformat": 4,
 "nbformat_minor": 0
}
